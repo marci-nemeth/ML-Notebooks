{
 "cells": [
  {
   "attachments": {},
   "cell_type": "markdown",
   "metadata": {},
   "source": [
    "# Financial News Sentiment Analysis\n",
    "\n",
    "### Description\n",
    "\n",
    "This classification task is based on the Kaggle dataset: <a href=https://www.kaggle.com/datasets/sbhatti/financial-sentiment-analysis >Financial Sentiment Analysis</a>. The dataset is under public domain license (v10.0).\n",
    "\n",
    "---\n",
    "### Table of contents\n",
    "\n",
    "1. [Dataset](#dataset)\n",
    "2. [Data preparation](#preparation)\n",
    "3. [Classification](#classification)\n",
    "   1. [Simple Conv](#)\n",
    "   2. [LSTM](#)\n",
    "   3. [GRU](#)\n",
    "   4. [Bidirectional](#)\n",
    "   5. [Conv1d](#)\n",
    "   6. [FinBERT](#finbert)\n",
    "4. [Model Comparison](#comparison)"
   ]
  },
  {
   "attachments": {},
   "cell_type": "markdown",
   "metadata": {},
   "source": [
    "---\n",
    "## 1. Dataset"
   ]
  },
  {
   "cell_type": "code",
   "execution_count": 6,
   "metadata": {},
   "outputs": [],
   "source": [
    "import os\n",
    "import pandas as pd\n",
    "import numpy as np\n",
    "import matplotlib.pyplot as plt\n",
    "import seaborn as sns\n",
    "import tensorflow as tf\n",
    "from imblearn.over_sampling import RandomOverSampler\n",
    "from sklearn.model_selection import train_test_split\n",
    "from sklearn.preprocessing import LabelEncoder\n",
    "from sklearn.metrics import f1_score, accuracy_score,recall_score,precision_score\n",
    "from tensorflow.keras.layers.experimental.preprocessing import TextVectorization\n",
    "from transformers import BertTokenizer, TFBertForSequenceClassification\n",
    "from transformers import pipeline\n",
    "from keras import layers\n",
    "from scipy import stats\n",
    "import warnings\n",
    "import sys\n",
    "from sklearn.ensemble import RandomForestClassifier\n",
    "from catboost import CatBoostClassifier\n",
    "from xgboost import XGBClassifier\n",
    "from sklearn.neighbors import KNeighborsClassifier\n",
    "from sklearn.svm import SVC\n",
    "from sklearn.naive_bayes import MultinomialNB\n",
    "from sklearn.linear_model import LogisticRegression\n",
    "from sklearn.feature_extraction.text import TfidfVectorizer"
   ]
  },
  {
   "cell_type": "code",
   "execution_count": 7,
   "metadata": {},
   "outputs": [],
   "source": [
    "df = pd.read_csv(\"data//data.csv\")"
   ]
  },
  {
   "cell_type": "code",
   "execution_count": 8,
   "metadata": {},
   "outputs": [
    {
     "name": "stdout",
     "output_type": "stream",
     "text": [
      "neutral     3130\n",
      "positive    1852\n",
      "negative     860\n",
      "Name: Sentiment, dtype: int64\n"
     ]
    },
    {
     "data": {
      "image/png": "[encoded data removed]",
      "text/plain": [
       "<Figure size 640x480 with 1 Axes>"
      ]
     },
     "metadata": {},
     "output_type": "display_data"
    }
   ],
   "source": [
    "fig,ax = plt.subplots()\n",
    "ax.bar(df[\"Sentiment\"].value_counts().index,df[\"Sentiment\"].value_counts().values)\n",
    "ax.set_ylabel(\"Count\")\n",
    "ax.set_title(\"Occurences of labels\")\n",
    "print(df[\"Sentiment\"].value_counts())"
   ]
  },
  {
   "attachments": {},
   "cell_type": "markdown",
   "metadata": {},
   "source": [
    "Dataset is **imbalanced**: almost 2x positive label than negative and 2x neutral label than positive.\n",
    "\n",
    "**Solution**: use imblearn RandomOverSampler. (Under-sampling would make dataset insufficiently small)"
   ]
  },
  {
   "attachments": {},
   "cell_type": "markdown",
   "metadata": {},
   "source": [
    "## 2. Data Preparation"
   ]
  },
  {
   "cell_type": "code",
   "execution_count": 9,
   "metadata": {},
   "outputs": [
    {
     "data": {
      "text/html": [
       "<style>#sk-container-id-1 {color: black;background-color: white;}#sk-container-id-1 pre{padding: 0;}#sk-container-id-1 div.sk-toggleable {background-color: white;}#sk-container-id-1 label.sk-toggleable__label {cursor: pointer;display: block;width: 100%;margin-bottom: 0;padding: 0.3em;box-sizing: border-box;text-align: center;}#sk-container-id-1 label.sk-toggleable__label-arrow:before {content: \"▸\";float: left;margin-right: 0.25em;color: #696969;}#sk-container-id-1 label.sk-toggleable__label-arrow:hover:before {color: black;}#sk-container-id-1 div.sk-estimator:hover label.sk-toggleable__label-arrow:before {color: black;}#sk-container-id-1 div.sk-toggleable__content {max-height: 0;max-width: 0;overflow: hidden;text-align: left;background-color: #f0f8ff;}#sk-container-id-1 div.sk-toggleable__content pre {margin: 0.2em;color: black;border-radius: 0.25em;background-color: #f0f8ff;}#sk-container-id-1 input.sk-toggleable__control:checked~div.sk-toggleable__content {max-height: 200px;max-width: 100%;overflow: auto;}#sk-container-id-1 input.sk-toggleable__control:checked~label.sk-toggleable__label-arrow:before {content: \"▾\";}#sk-container-id-1 div.sk-estimator input.sk-toggleable__control:checked~label.sk-toggleable__label {background-color: #d4ebff;}#sk-container-id-1 div.sk-label input.sk-toggleable__control:checked~label.sk-toggleable__label {background-color: #d4ebff;}#sk-container-id-1 input.sk-hidden--visually {border: 0;clip: rect(1px 1px 1px 1px);clip: rect(1px, 1px, 1px, 1px);height: 1px;margin: -1px;overflow: hidden;padding: 0;position: absolute;width: 1px;}#sk-container-id-1 div.sk-estimator {font-family: monospace;background-color: #f0f8ff;border: 1px dotted black;border-radius: 0.25em;box-sizing: border-box;margin-bottom: 0.5em;}#sk-container-id-1 div.sk-estimator:hover {background-color: #d4ebff;}#sk-container-id-1 div.sk-parallel-item::after {content: \"\";width: 100%;border-bottom: 1px solid gray;flex-grow: 1;}#sk-container-id-1 div.sk-label:hover label.sk-toggleable__label {background-color: #d4ebff;}#sk-container-id-1 div.sk-serial::before {content: \"\";position: absolute;border-left: 1px solid gray;box-sizing: border-box;top: 0;bottom: 0;left: 50%;z-index: 0;}#sk-container-id-1 div.sk-serial {display: flex;flex-direction: column;align-items: center;background-color: white;padding-right: 0.2em;padding-left: 0.2em;position: relative;}#sk-container-id-1 div.sk-item {position: relative;z-index: 1;}#sk-container-id-1 div.sk-parallel {display: flex;align-items: stretch;justify-content: center;background-color: white;position: relative;}#sk-container-id-1 div.sk-item::before, #sk-container-id-1 div.sk-parallel-item::before {content: \"\";position: absolute;border-left: 1px solid gray;box-sizing: border-box;top: 0;bottom: 0;left: 50%;z-index: -1;}#sk-container-id-1 div.sk-parallel-item {display: flex;flex-direction: column;z-index: 1;position: relative;background-color: white;}#sk-container-id-1 div.sk-parallel-item:first-child::after {align-self: flex-end;width: 50%;}#sk-container-id-1 div.sk-parallel-item:last-child::after {align-self: flex-start;width: 50%;}#sk-container-id-1 div.sk-parallel-item:only-child::after {width: 0;}#sk-container-id-1 div.sk-dashed-wrapped {border: 1px dashed gray;margin: 0 0.4em 0.5em 0.4em;box-sizing: border-box;padding-bottom: 0.4em;background-color: white;}#sk-container-id-1 div.sk-label label {font-family: monospace;font-weight: bold;display: inline-block;line-height: 1.2em;}#sk-container-id-1 div.sk-label-container {text-align: center;}#sk-container-id-1 div.sk-container {/* jupyter's `normalize.less` sets `[hidden] { display: none; }` but bootstrap.min.css set `[hidden] { display: none !important; }` so we also need the `!important` here to be able to override the default hidden behavior on the sphinx rendered scikit-learn.org. See: https://github.com/scikit-learn/scikit-learn/issues/21755 */display: inline-block !important;position: relative;}#sk-container-id-1 div.sk-text-repr-fallback {display: none;}</style><div id=\"sk-container-id-1\" class=\"sk-top-container\"><div class=\"sk-text-repr-fallback\"><pre>LabelEncoder()</pre><b>In a Jupyter environment, please rerun this cell to show the HTML representation or trust the notebook. <br />On GitHub, the HTML representation is unable to render, please try loading this page with nbviewer.org.</b></div><div class=\"sk-container\" hidden><div class=\"sk-item\"><div class=\"sk-estimator sk-toggleable\"><input class=\"sk-toggleable__control sk-hidden--visually\" id=\"sk-estimator-id-1\" type=\"checkbox\" checked><label for=\"sk-estimator-id-1\" class=\"sk-toggleable__label sk-toggleable__label-arrow\">LabelEncoder</label><div class=\"sk-toggleable__content\"><pre>LabelEncoder()</pre></div></div></div></div></div>"
      ],
      "text/plain": [
       "LabelEncoder()"
      ]
     },
     "execution_count": 9,
     "metadata": {},
     "output_type": "execute_result"
    }
   ],
   "source": [
    "encoder = LabelEncoder()\n",
    "encoder.fit(df[\"Sentiment\"])"
   ]
  },
  {
   "cell_type": "code",
   "execution_count": 10,
   "metadata": {},
   "outputs": [],
   "source": [
    "X = df[\"Sentence\"]\n",
    "y = encoder.transform(df[\"Sentiment\"])"
   ]
  },
  {
   "cell_type": "code",
   "execution_count": 11,
   "metadata": {},
   "outputs": [
    {
     "name": "stdout",
     "output_type": "stream",
     "text": [
      "['negative' 'neutral' 'positive']\n"
     ]
    }
   ],
   "source": [
    "print(encoder.classes_)"
   ]
  },
  {
   "cell_type": "code",
   "execution_count": 12,
   "metadata": {},
   "outputs": [
    {
     "name": "stdout",
     "output_type": "stream",
     "text": [
      "[2 0 2 ... 1 1 2]\n"
     ]
    }
   ],
   "source": [
    "print(y)"
   ]
  },
  {
   "cell_type": "code",
   "execution_count": 13,
   "metadata": {},
   "outputs": [],
   "source": [
    "X_train,X_test,y_train,y_test = train_test_split(X,y,test_size = 0.2)"
   ]
  },
  {
   "cell_type": "code",
   "execution_count": 14,
   "metadata": {},
   "outputs": [
    {
     "name": "stdout",
     "output_type": "stream",
     "text": [
      "(4673,) (1169,) (4673,) (1169,)\n"
     ]
    }
   ],
   "source": [
    "print(X_train.shape,X_test.shape,y_train.shape,y_test.shape)"
   ]
  },
  {
   "cell_type": "code",
   "execution_count": 15,
   "metadata": {},
   "outputs": [],
   "source": [
    "sampler = RandomOverSampler(random_state=42)\n",
    "X_over, y_over = sampler.fit_resample(X_train.to_numpy().reshape(-1, 1), y_train.reshape(-1, 1))"
   ]
  },
  {
   "cell_type": "code",
   "execution_count": 16,
   "metadata": {},
   "outputs": [],
   "source": [
    "y_train = np.asarray(y_over).astype('float32').reshape((-1,1))\n",
    "y_test = np.asarray(y_test).astype('float32').reshape((-1,1))"
   ]
  },
  {
   "cell_type": "code",
   "execution_count": 17,
   "metadata": {},
   "outputs": [
    {
     "name": "stdout",
     "output_type": "stream",
     "text": [
      "(7557, 1) (7557,)\n"
     ]
    }
   ],
   "source": [
    "print(X_over.shape,y_over.shape)"
   ]
  },
  {
   "cell_type": "code",
   "execution_count": 18,
   "metadata": {},
   "outputs": [],
   "source": [
    "avg_words=round(sum([len(i.split()) for i in X_train])/len(X_train))"
   ]
  },
  {
   "cell_type": "code",
   "execution_count": 19,
   "metadata": {},
   "outputs": [],
   "source": [
    "text_vectorizer = TextVectorization(max_tokens=10000,\n",
    "                                    output_mode=\"int\",\n",
    "                                    output_sequence_length=avg_words)\n",
    "text_vectorizer.adapt(X_train)"
   ]
  },
  {
   "cell_type": "code",
   "execution_count": 203,
   "metadata": {},
   "outputs": [],
   "source": [
    "embedding = layers.Embedding(input_dim=10000, \n",
    "                             output_dim=128, \n",
    "                             embeddings_initializer=\"uniform\", \n",
    "                             input_length=avg_words, \n",
    "                             name=\"embedding_1\")"
   ]
  },
  {
   "attachments": {},
   "cell_type": "markdown",
   "metadata": {},
   "source": [
    "## 3. Classification"
   ]
  },
  {
   "cell_type": "code",
   "execution_count": 63,
   "metadata": {},
   "outputs": [],
   "source": [
    "def get_scores(y_hat,y_true,model_name=\"model\"):\n",
    "    return {\n",
    "        \"model\":model_name,\n",
    "        \"f1\":f1_score(y_hat,y_true,average=\"weighted\"),\n",
    "        \"accuracy\":accuracy_score(y_hat,y_true),\n",
    "        \"recall\": recall_score(y_hat,y_true,average=\"weighted\"),\n",
    "        \"precision\":precision_score(y_hat,y_true,average=\"weighted\")\n",
    "    }"
   ]
  },
  {
   "attachments": {},
   "cell_type": "markdown",
   "metadata": {},
   "source": [
    "### 3.1 Simple Keras CNN"
   ]
  },
  {
   "cell_type": "code",
   "execution_count": 205,
   "metadata": {},
   "outputs": [],
   "source": [
    "inputs = layers.Input(shape=(1,), dtype=\"string\") \n",
    "x = text_vectorizer(inputs) \n",
    "x = embedding(x) \n",
    "x = layers.GlobalAveragePooling1D()(x) \n",
    "outputs = layers.Dense(3, activation='softmax')(x) \n",
    "model_1 = tf.keras.Model(inputs, outputs, name=\"model_1_dense\") \n",
    "\n",
    "model_1.compile(loss=\"sparse_categorical_crossentropy\",\n",
    "                optimizer=tf.keras.optimizers.Adam(),\n",
    "                metrics=[\"accuracy\"])"
   ]
  },
  {
   "cell_type": "code",
   "execution_count": 206,
   "metadata": {},
   "outputs": [
    {
     "name": "stdout",
     "output_type": "stream",
     "text": [
      "Model: \"model_1_dense\"\n",
      "_________________________________________________________________\n",
      " Layer (type)                Output Shape              Param #   \n",
      "=================================================================\n",
      " input_27 (InputLayer)       [(None, 1)]               0         \n",
      "                                                                 \n",
      " text_vectorization_2 (TextV  (None, 21)               0         \n",
      " ectorization)                                                   \n",
      "                                                                 \n",
      " embedding_1 (Embedding)     (None, 21, 128)           1280000   \n",
      "                                                                 \n",
      " global_average_pooling1d_5   (None, 128)              0         \n",
      " (GlobalAveragePooling1D)                                        \n",
      "                                                                 \n",
      " dense_20 (Dense)            (None, 3)                 387       \n",
      "                                                                 \n",
      "=================================================================\n",
      "Total params: 1,280,387\n",
      "Trainable params: 1,280,387\n",
      "Non-trainable params: 0\n",
      "_________________________________________________________________\n"
     ]
    }
   ],
   "source": [
    "model_1.summary()"
   ]
  },
  {
   "cell_type": "code",
   "execution_count": 207,
   "metadata": {},
   "outputs": [],
   "source": [
    "model_1_history = model_1.fit(X_over, # input sentences can be a list of strings due to text preprocessing layer built-in model\n",
    "                              y_over,\n",
    "                              epochs=10,verbose=0 )"
   ]
  },
  {
   "attachments": {},
   "cell_type": "markdown",
   "metadata": {},
   "source": [
    "#### 3.2 LSTM estimator"
   ]
  },
  {
   "cell_type": "code",
   "execution_count": 208,
   "metadata": {},
   "outputs": [],
   "source": [
    "embedding_layer = layers.Embedding(input_dim=10000,\n",
    "                                   output_dim=128,\n",
    "                                   embeddings_initializer=\"uniform\",\n",
    "                                   input_length=avg_words,\n",
    "                                   name=\"embedding1\")\n",
    "inputs = layers.Input(shape=(1,),dtype=\"string\")\n",
    "\n",
    "x = text_vectorizer(inputs)\n",
    "x= embedding_layer(x)\n",
    "x = layers.LSTM(units=64)(x)\n",
    "outputs = layers.Dense(3, activation=\"softmax\")(x)\n",
    "\n",
    "lstm_model = tf.keras.Model(inputs,outputs,name=\"lstm_model\")\n",
    "\n",
    "lstm_model.compile(loss=\"sparse_categorical_crossentropy\",\n",
    "                   optimizer=tf.keras.optimizers.Adam(),\n",
    "                   metrics=[\"accuracy\"])"
   ]
  },
  {
   "cell_type": "code",
   "execution_count": 209,
   "metadata": {},
   "outputs": [
    {
     "name": "stdout",
     "output_type": "stream",
     "text": [
      "Model: \"lstm_model\"\n",
      "_________________________________________________________________\n",
      " Layer (type)                Output Shape              Param #   \n",
      "=================================================================\n",
      " input_28 (InputLayer)       [(None, 1)]               0         \n",
      "                                                                 \n",
      " text_vectorization_2 (TextV  (None, 21)               0         \n",
      " ectorization)                                                   \n",
      "                                                                 \n",
      " embedding1 (Embedding)      (None, 21, 128)           1280000   \n",
      "                                                                 \n",
      " lstm_20 (LSTM)              (None, 64)                49408     \n",
      "                                                                 \n",
      " dense_21 (Dense)            (None, 3)                 195       \n",
      "                                                                 \n",
      "=================================================================\n",
      "Total params: 1,329,603\n",
      "Trainable params: 1,329,603\n",
      "Non-trainable params: 0\n",
      "_________________________________________________________________\n"
     ]
    }
   ],
   "source": [
    "lstm_model.summary()"
   ]
  },
  {
   "cell_type": "code",
   "execution_count": 210,
   "metadata": {},
   "outputs": [],
   "source": [
    "lstm_history = lstm_model.fit(X_over,y_over,epochs=10,verbose=0)"
   ]
  },
  {
   "cell_type": "code",
   "execution_count": 211,
   "metadata": {},
   "outputs": [
    {
     "name": "stdout",
     "output_type": "stream",
     "text": [
      "37/37 [==============================] - 1s 7ms/step - loss: 2.0948 - accuracy: 0.6228\n"
     ]
    },
    {
     "data": {
      "text/plain": [
       "[2.0947606563568115, 0.6227545142173767]"
      ]
     },
     "execution_count": 211,
     "metadata": {},
     "output_type": "execute_result"
    }
   ],
   "source": [
    "lstm_model.evaluate(X_test,y_test)"
   ]
  },
  {
   "attachments": {},
   "cell_type": "markdown",
   "metadata": {},
   "source": [
    "#### 3.3 GRU estimator"
   ]
  },
  {
   "cell_type": "code",
   "execution_count": 212,
   "metadata": {},
   "outputs": [],
   "source": [
    "embedding_layer3 = layers.Embedding(input_dim=10000,\n",
    "                                          output_dim =128,\n",
    "                                          embeddings_initializer = \"uniform\",\n",
    "                                          input_length=avg_words,\n",
    "                                          name=\"embedding3\")\n",
    "inputs = layers.Input(shape=(1,),dtype=\"string\")\n",
    "x = text_vectorizer(inputs)\n",
    "x = embedding_layer3(x)\n",
    "x = layers.GRU(64)(x)\n",
    "outputs = layers.Dense(3, activation=\"softmax\")(x)\n",
    "\n",
    "gru_model = tf.keras.Model(inputs,outputs,name=\"gru_model\")\n",
    "\n",
    "gru_model.compile(loss=\"sparse_categorical_crossentropy\",\n",
    "                  optimizer = tf.keras.optimizers.Adam(),\n",
    "                  metrics=[\"accuracy\"]\n",
    "                  )"
   ]
  },
  {
   "cell_type": "code",
   "execution_count": 213,
   "metadata": {},
   "outputs": [],
   "source": [
    "gru_history  = gru_model.fit(X_over,y_over,epochs=10,verbose=0)"
   ]
  },
  {
   "cell_type": "code",
   "execution_count": 214,
   "metadata": {},
   "outputs": [
    {
     "name": "stdout",
     "output_type": "stream",
     "text": [
      "37/37 [==============================] - 1s 8ms/step - loss: 1.7858 - accuracy: 0.6467\n"
     ]
    },
    {
     "data": {
      "text/plain": [
       "[1.7857528924942017, 0.6467065811157227]"
      ]
     },
     "execution_count": 214,
     "metadata": {},
     "output_type": "execute_result"
    }
   ],
   "source": [
    "gru_model.evaluate(X_test,y_test)"
   ]
  },
  {
   "attachments": {},
   "cell_type": "markdown",
   "metadata": {},
   "source": [
    "#### 3.4 Bidirectional Estimator"
   ]
  },
  {
   "cell_type": "code",
   "execution_count": 215,
   "metadata": {},
   "outputs": [],
   "source": [
    "embedding_layer4 = layers.Embedding(input_dim=10000,\n",
    "                                    output_dim=128,\n",
    "                                    embeddings_initializer=\"uniform\",\n",
    "                                    input_length=avg_words,\n",
    "                                    name=\"embedding4\")\n",
    "\n",
    "inputs = layers.Input(shape=(1,),dtype=\"string\")\n",
    "x = text_vectorizer(inputs)\n",
    "x = embedding_layer4(x)\n",
    "x = layers.Bidirectional(layers.LSTM(64,))(x)\n",
    "outputs = layers.Dense(3,activation=\"softmax\")(x)\n",
    "\n",
    "bdir_model = tf.keras.Model(inputs,outputs,name=\"bdir_model\")\n",
    "bdir_model.compile(loss=\"sparse_categorical_crossentropy\",\n",
    "                   optimizer = tf.keras.optimizers.Adam(),\n",
    "                   metrics = [\"accuracy\"])"
   ]
  },
  {
   "cell_type": "code",
   "execution_count": 216,
   "metadata": {},
   "outputs": [],
   "source": [
    "bdir_history = bdir_model.fit(X_over,y_over,epochs=10,verbose=0)"
   ]
  },
  {
   "cell_type": "code",
   "execution_count": 217,
   "metadata": {},
   "outputs": [
    {
     "name": "stdout",
     "output_type": "stream",
     "text": [
      "37/37 [==============================] - 1s 10ms/step - loss: 2.0937 - accuracy: 0.6347\n"
     ]
    },
    {
     "data": {
      "text/plain": [
       "[2.093658924102783, 0.6347305178642273]"
      ]
     },
     "execution_count": 217,
     "metadata": {},
     "output_type": "execute_result"
    }
   ],
   "source": [
    "bdir_model.evaluate(X_test,y_test)"
   ]
  },
  {
   "attachments": {},
   "cell_type": "markdown",
   "metadata": {},
   "source": [
    "#### 3.5 Conv1d Estimator"
   ]
  },
  {
   "cell_type": "code",
   "execution_count": 218,
   "metadata": {},
   "outputs": [],
   "source": [
    "embedding_layer5 = layers.Embedding(input_dim=10000,\n",
    "                                    output_dim=128,\n",
    "                                    embeddings_initializer=\"uniform\",\n",
    "                                    input_length=avg_words,\n",
    "                                    name=\"embedding5\")\n",
    "\n",
    "inputs = layers.Input(shape=(1,),dtype=\"string\")\n",
    "x = text_vectorizer(inputs)\n",
    "x = embedding_layer5(x)\n",
    "\n",
    "x = layers.Conv1D(filters=32,kernel_size=5,activation=\"relu\")(x)\n",
    "x = layers.GlobalMaxPool1D()(x)\n",
    "outputs = layers.Dense(3,activation=\"softmax\")(x)\n",
    "\n",
    "conv1d_model = tf.keras.Model(inputs,outputs,name=\"conv1d_model\")\n",
    "conv1d_model.compile(loss=\"sparse_categorical_crossentropy\",\n",
    "                   optimizer = tf.keras.optimizers.Adam(),\n",
    "                   metrics = [\"accuracy\"])"
   ]
  },
  {
   "cell_type": "code",
   "execution_count": 219,
   "metadata": {},
   "outputs": [
    {
     "name": "stdout",
     "output_type": "stream",
     "text": [
      "Epoch 1/10\n",
      "236/236 [==============================] - 3s 11ms/step - loss: 0.8650 - accuracy: 0.6553\n",
      "Epoch 2/10\n",
      "236/236 [==============================] - 3s 11ms/step - loss: 0.3537 - accuracy: 0.8764\n",
      "Epoch 3/10\n",
      "236/236 [==============================] - 3s 11ms/step - loss: 0.2019 - accuracy: 0.9316\n",
      "Epoch 4/10\n",
      "236/236 [==============================] - 3s 11ms/step - loss: 0.1643 - accuracy: 0.9428\n",
      "Epoch 5/10\n",
      "236/236 [==============================] - 2s 10ms/step - loss: 0.1539 - accuracy: 0.9416\n",
      "Epoch 6/10\n",
      "236/236 [==============================] - 3s 11ms/step - loss: 0.1467 - accuracy: 0.9444\n",
      "Epoch 7/10\n",
      "236/236 [==============================] - 3s 12ms/step - loss: 0.1414 - accuracy: 0.9462\n",
      "Epoch 8/10\n",
      "236/236 [==============================] - 3s 11ms/step - loss: 0.1396 - accuracy: 0.9462\n",
      "Epoch 9/10\n",
      "236/236 [==============================] - 2s 10ms/step - loss: 0.1370 - accuracy: 0.9495\n",
      "Epoch 10/10\n",
      "236/236 [==============================] - 2s 10ms/step - loss: 0.1343 - accuracy: 0.9477\n"
     ]
    }
   ],
   "source": [
    "conv1d_history = conv1d_model.fit(X_over,y_over,epochs=10,verbose=0)"
   ]
  },
  {
   "cell_type": "code",
   "execution_count": 220,
   "metadata": {},
   "outputs": [
    {
     "name": "stdout",
     "output_type": "stream",
     "text": [
      "37/37 [==============================] - 0s 5ms/step - loss: 1.1841 - accuracy: 0.6595\n"
     ]
    },
    {
     "data": {
      "text/plain": [
       "[1.1840994358062744, 0.6595380902290344]"
      ]
     },
     "execution_count": 220,
     "metadata": {},
     "output_type": "execute_result"
    }
   ],
   "source": [
    "conv1d_model.evaluate(X_test,y_test)"
   ]
  },
  {
   "attachments": {},
   "cell_type": "markdown",
   "metadata": {},
   "source": [
    "#### 3.6 FinBERT (hugging-face)"
   ]
  },
  {
   "cell_type": "code",
   "execution_count": 221,
   "metadata": {},
   "outputs": [
    {
     "name": "stderr",
     "output_type": "stream",
     "text": [
      "Some layers from the model checkpoint at yiyanghkust/finbert-tone were not used when initializing TFBertForSequenceClassification: ['dropout_37']\n",
      "- This IS expected if you are initializing TFBertForSequenceClassification from the checkpoint of a model trained on another task or with another architecture (e.g. initializing a BertForSequenceClassification model from a BertForPreTraining model).\n",
      "- This IS NOT expected if you are initializing TFBertForSequenceClassification from the checkpoint of a model that you expect to be exactly identical (initializing a BertForSequenceClassification model from a BertForSequenceClassification model).\n",
      "All the layers of TFBertForSequenceClassification were initialized from the model checkpoint at yiyanghkust/finbert-tone.\n",
      "If your task is similar to the task the model of the checkpoint was trained on, you can already use TFBertForSequenceClassification for predictions without further training.\n"
     ]
    }
   ],
   "source": [
    "finbert = TFBertForSequenceClassification.from_pretrained('yiyanghkust/finbert-tone',num_labels=3)\n",
    "tokenizer = BertTokenizer.from_pretrained('yiyanghkust/finbert-tone')"
   ]
  },
  {
   "cell_type": "code",
   "execution_count": 222,
   "metadata": {},
   "outputs": [],
   "source": [
    "nlp = pipeline(\"sentiment-analysis\", model=finbert, tokenizer=tokenizer)\n",
    "results = nlp(X_test.tolist())"
   ]
  },
  {
   "cell_type": "code",
   "execution_count": 223,
   "metadata": {},
   "outputs": [],
   "source": [
    "y_pred_finbert =[]\n",
    "for result in results:\n",
    "    if result[\"label\"] ==\"Negative\":\n",
    "        y_pred_finbert.append(0)\n",
    "    elif result[\"label\"] ==\"Neutral\":\n",
    "        y_pred_finbert.append(1)\n",
    "    else:\n",
    "        y_pred_finbert.append(2)"
   ]
  },
  {
   "cell_type": "code",
   "execution_count": 224,
   "metadata": {},
   "outputs": [],
   "source": [
    "finbert_acc = get_scores(y_pred_finbert,y_test,\"finBERT\")"
   ]
  },
  {
   "cell_type": "code",
   "execution_count": 225,
   "metadata": {},
   "outputs": [
    {
     "name": "stderr",
     "output_type": "stream",
     "text": [
      "All model checkpoint layers were used when initializing TFBertForSequenceClassification.\n",
      "\n",
      "Some layers of TFBertForSequenceClassification were not initialized from the model checkpoint at ProsusAI/finbert and are newly initialized: ['classifier']\n",
      "You should probably TRAIN this model on a down-stream task to be able to use it for predictions and inference.\n"
     ]
    }
   ],
   "source": [
    "finbert = TFBertForSequenceClassification.from_pretrained('ProsusAI/finbert',num_labels=3)\n",
    "tokenizer = BertTokenizer.from_pretrained('ProsusAI/finbert')"
   ]
  },
  {
   "cell_type": "code",
   "execution_count": 226,
   "metadata": {},
   "outputs": [],
   "source": [
    "nlp = pipeline(\"sentiment-analysis\", model=finbert, tokenizer=tokenizer)\n",
    "results = nlp(X_test.tolist())"
   ]
  },
  {
   "cell_type": "code",
   "execution_count": 227,
   "metadata": {},
   "outputs": [],
   "source": [
    "y_pred_finbert_base =[]\n",
    "for result in results:\n",
    "    if result[\"label\"] ==\"negative\":\n",
    "        y_pred_finbert_base.append(0)\n",
    "    elif result[\"label\"] ==\"neutral\":\n",
    "        y_pred_finbert_base.append(1)\n",
    "    else:\n",
    "        y_pred_finbert_base.append(2)"
   ]
  },
  {
   "cell_type": "code",
   "execution_count": 228,
   "metadata": {},
   "outputs": [],
   "source": [
    "finbert_base_acc = get_scores(y_pred_finbert_base,y_test,\"finBERT\")"
   ]
  },
  {
   "attachments": {},
   "cell_type": "markdown",
   "metadata": {},
   "source": [
    "## 4. Model Comparison"
   ]
  },
  {
   "cell_type": "code",
   "execution_count": 229,
   "metadata": {},
   "outputs": [
    {
     "name": "stdout",
     "output_type": "stream",
     "text": [
      "37/37 [==============================] - 0s 1ms/step\n",
      "37/37 [==============================] - 1s 7ms/step\n",
      "37/37 [==============================] - 0s 3ms/step\n",
      "37/37 [==============================] - 1s 7ms/step\n",
      "37/37 [==============================] - 1s 10ms/step\n"
     ]
    }
   ],
   "source": [
    "y_pred_cnn = model_1.predict(X_test)\n",
    "y_pred_lstm = lstm_model.predict(X_test)\n",
    "y_pred_conv1d = conv1d_model.predict(X_test)\n",
    "y_pred_gru = gru_model.predict(X_test)\n",
    "y_pred_bdir = bdir_model.predict(X_test)"
   ]
  },
  {
   "cell_type": "code",
   "execution_count": 230,
   "metadata": {},
   "outputs": [
    {
     "data": {
      "image/png": "[encoded data removed]",
      "text/plain": [
       "<Figure size 640x480 with 1 Axes>"
      ]
     },
     "metadata": {},
     "output_type": "display_data"
    }
   ],
   "source": [
    "acc_scores = []\n",
    "prec_scores = []\n",
    "f1_scores = []\n",
    "recall_scores = []\n",
    "\n",
    "for preds in [y_pred_cnn,y_pred_lstm,y_pred_conv1d,y_pred_gru,y_pred_bdir]:\n",
    "    y_hat = []\n",
    "    for pred in preds:\n",
    "        if max(pred) ==pred[0]:\n",
    "            y_hat.append(0)\n",
    "        elif max(pred) ==pred[1]:\n",
    "            y_hat.append(1)\n",
    "        else:\n",
    "            y_hat.append(2)\n",
    "    acc_scores.append(get_scores(y_hat, y_test)[\"accuracy\"])\n",
    "    prec_scores.append(get_scores(y_hat, y_test)[\"precision\"])\n",
    "    f1_scores.append(get_scores(y_hat, y_test)[\"f1\"])\n",
    "    recall_scores.append(get_scores(y_hat, y_test)[\"recall\"])\n",
    "    \n",
    "acc_scores +=[finbert_acc[\"accuracy\"],finbert_base_acc[\"accuracy\"]]\n",
    "prec_scores +=[finbert_acc[\"precision\"],finbert_base_acc[\"precision\"]]\n",
    "recall_scores +=[finbert_acc[\"recall\"],finbert_base_acc[\"recall\"]]\n",
    "f1_scores +=[finbert_acc[\"f1\"],finbert_base_acc[\"f1\"]]\n",
    "fig = plt.figure()\n",
    "\n",
    "barWidth = 0.2\n",
    "br1 = np.arange(len(acc_scores))\n",
    "br2 = [x + barWidth for x in br1]\n",
    "br3 = [x + barWidth for x in br2]\n",
    "br4 = [x + barWidth for x in br3]\n",
    "\n",
    "\n",
    "\n",
    "plt.bar(br1,acc_scores,width=barWidth,label=\"Accuracy\")\n",
    "plt.bar(br2,prec_scores,width=barWidth,label=\"Precision\")\n",
    "plt.bar(br3,f1_scores,width=barWidth,label=\"F1 Score\")\n",
    "plt.bar(br4,recall_scores,width=barWidth,label=\"Recall\")\n",
    "plt.xticks([r + barWidth for r in range(len(acc_scores))],\n",
    "        [\"CNN\",\"LSTM\",\"Conv1D\",\"GRU\",\"Bdir\",\"finBERT-tone\",\"finBERT-base\"],rotation=20)\n",
    "plt.ylim(0,1)\n",
    "plt.legend()\n",
    "plt.show()"
   ]
  },
  {
   "attachments": {},
   "cell_type": "markdown",
   "metadata": {},
   "source": [
    "Best accuracy: finBERT-tone 71.26%"
   ]
  },
  {
   "attachments": {},
   "cell_type": "markdown",
   "metadata": {},
   "source": [
    "## Can we do better?"
   ]
  },
  {
   "cell_type": "code",
   "execution_count": 2,
   "metadata": {},
   "outputs": [],
   "source": [
    "def predict_scores(clf,X_over,y_over,X_test,y_test):\n",
    "    \n",
    "    clf.fit(X_over,y_over)\n",
    "    y_hat = clf.predict(X_test)\n",
    "    return get_scores(y_hat,y_test)"
   ]
  },
  {
   "cell_type": "code",
   "execution_count": 75,
   "metadata": {},
   "outputs": [],
   "source": [
    "X_train, X_test, y_train, y_test = train_test_split(X,y, test_size=0.25, random_state=42)"
   ]
  },
  {
   "cell_type": "code",
   "execution_count": 76,
   "metadata": {},
   "outputs": [
    {
     "data": {
      "text/plain": [
       "((4381,), (4381,))"
      ]
     },
     "execution_count": 76,
     "metadata": {},
     "output_type": "execute_result"
    }
   ],
   "source": [
    "X_train.shape,y_train.shape"
   ]
  },
  {
   "cell_type": "code",
   "execution_count": 77,
   "metadata": {},
   "outputs": [],
   "source": [
    "embedding_layer_base = layers.Embedding(input_dim=10000,output_dim=1,embeddings_initializer=\"uniform\",name=\"embeddings_base\",input_length=avg_words)\n",
    "X_train = text_vectorizer(X_train)\n",
    "X_train = embedding_layer_base(X_train)"
   ]
  },
  {
   "cell_type": "code",
   "execution_count": 78,
   "metadata": {},
   "outputs": [],
   "source": [
    "\n",
    "X_test = text_vectorizer(X_test)\n",
    "X_test = embedding_layer_base(X_test)"
   ]
  },
  {
   "cell_type": "code",
   "execution_count": 79,
   "metadata": {},
   "outputs": [],
   "source": [
    "X_train = tf.squeeze(X_train)\n",
    "X_test = tf.squeeze(X_test)"
   ]
  },
  {
   "cell_type": "code",
   "execution_count": 80,
   "metadata": {},
   "outputs": [
    {
     "data": {
      "text/plain": [
       "(TensorShape([4381, 21]), (4381,))"
      ]
     },
     "execution_count": 80,
     "metadata": {},
     "output_type": "execute_result"
    }
   ],
   "source": [
    "X_train.shape,y_train.shape"
   ]
  },
  {
   "cell_type": "code",
   "execution_count": 81,
   "metadata": {},
   "outputs": [
    {
     "data": {
      "text/plain": [
       "array([[-0.00696928, -0.00070642,  0.00318357, ...,  0.02243573,\n",
       "         0.02243573,  0.02243573],\n",
       "       [ 0.00373285, -0.01179475, -0.01873888, ..., -0.00033353,\n",
       "         0.03783328, -0.01109588],\n",
       "       [ 0.03731689, -0.03601897,  0.00625747, ...,  0.02243573,\n",
       "         0.02243573,  0.02243573],\n",
       "       ...,\n",
       "       [-0.00261847, -0.00369342, -0.00288074, ...,  0.02243573,\n",
       "         0.02243573,  0.02243573],\n",
       "       [ 0.00753157,  0.00564256,  0.03112841, ...,  0.02243573,\n",
       "         0.02243573,  0.02243573],\n",
       "       [ 0.01584366,  0.03841915,  0.04212798, ...,  0.02243573,\n",
       "         0.02243573,  0.02243573]], dtype=float32)"
      ]
     },
     "execution_count": 81,
     "metadata": {},
     "output_type": "execute_result"
    }
   ],
   "source": [
    "np.array(X_train)"
   ]
  },
  {
   "cell_type": "code",
   "execution_count": 82,
   "metadata": {},
   "outputs": [
    {
     "name": "stdout",
     "output_type": "stream",
     "text": [
      "Learning rate set to 0.085319\n",
      "0:\tlearn: 1.0779802\ttotal: 9.57ms\tremaining: 9.56s\n",
      "1:\tlearn: 1.0597329\ttotal: 17.8ms\tremaining: 8.9s\n",
      "2:\tlearn: 1.0433063\ttotal: 24.6ms\tremaining: 8.19s\n",
      "3:\tlearn: 1.0304677\ttotal: 31.6ms\tremaining: 7.86s\n",
      "4:\tlearn: 1.0174543\ttotal: 37.8ms\tremaining: 7.53s\n",
      "5:\tlearn: 1.0071333\ttotal: 43.2ms\tremaining: 7.16s\n",
      "6:\tlearn: 0.9982290\ttotal: 49ms\tremaining: 6.95s\n",
      "7:\tlearn: 0.9877162\ttotal: 55.3ms\tremaining: 6.86s\n",
      "8:\tlearn: 0.9809883\ttotal: 62.8ms\tremaining: 6.91s\n",
      "9:\tlearn: 0.9747053\ttotal: 68.5ms\tremaining: 6.78s\n",
      "10:\tlearn: 0.9689375\ttotal: 74.2ms\tremaining: 6.67s\n",
      "11:\tlearn: 0.9642478\ttotal: 81.1ms\tremaining: 6.68s\n",
      "12:\tlearn: 0.9603955\ttotal: 87.1ms\tremaining: 6.61s\n",
      "13:\tlearn: 0.9564343\ttotal: 93.5ms\tremaining: 6.58s\n",
      "14:\tlearn: 0.9530659\ttotal: 100ms\tremaining: 6.59s\n",
      "15:\tlearn: 0.9491857\ttotal: 109ms\tremaining: 6.67s\n",
      "16:\tlearn: 0.9458754\ttotal: 116ms\tremaining: 6.7s\n",
      "17:\tlearn: 0.9424911\ttotal: 124ms\tremaining: 6.79s\n",
      "18:\tlearn: 0.9405186\ttotal: 131ms\tremaining: 6.76s\n",
      "19:\tlearn: 0.9376094\ttotal: 138ms\tremaining: 6.76s\n",
      "20:\tlearn: 0.9355717\ttotal: 144ms\tremaining: 6.72s\n",
      "21:\tlearn: 0.9328727\ttotal: 149ms\tremaining: 6.63s\n",
      "22:\tlearn: 0.9292834\ttotal: 155ms\tremaining: 6.58s\n",
      "23:\tlearn: 0.9272727\ttotal: 161ms\tremaining: 6.54s\n",
      "24:\tlearn: 0.9251944\ttotal: 166ms\tremaining: 6.46s\n",
      "25:\tlearn: 0.9237570\ttotal: 171ms\tremaining: 6.42s\n",
      "26:\tlearn: 0.9220506\ttotal: 177ms\tremaining: 6.39s\n",
      "27:\tlearn: 0.9204951\ttotal: 182ms\tremaining: 6.33s\n",
      "28:\tlearn: 0.9177183\ttotal: 188ms\tremaining: 6.29s\n",
      "29:\tlearn: 0.9162459\ttotal: 193ms\tremaining: 6.25s\n",
      "30:\tlearn: 0.9149810\ttotal: 199ms\tremaining: 6.22s\n",
      "31:\tlearn: 0.9132994\ttotal: 204ms\tremaining: 6.18s\n",
      "32:\tlearn: 0.9118671\ttotal: 210ms\tremaining: 6.16s\n",
      "33:\tlearn: 0.9105244\ttotal: 217ms\tremaining: 6.17s\n",
      "34:\tlearn: 0.9091198\ttotal: 222ms\tremaining: 6.13s\n",
      "35:\tlearn: 0.9082103\ttotal: 228ms\tremaining: 6.1s\n",
      "36:\tlearn: 0.9067647\ttotal: 234ms\tremaining: 6.09s\n",
      "37:\tlearn: 0.9056374\ttotal: 239ms\tremaining: 6.05s\n",
      "38:\tlearn: 0.9041803\ttotal: 245ms\tremaining: 6.03s\n",
      "39:\tlearn: 0.9029532\ttotal: 251ms\tremaining: 6.02s\n",
      "40:\tlearn: 0.9019093\ttotal: 256ms\tremaining: 5.99s\n",
      "41:\tlearn: 0.9013103\ttotal: 261ms\tremaining: 5.96s\n",
      "42:\tlearn: 0.9000166\ttotal: 267ms\tremaining: 5.94s\n",
      "43:\tlearn: 0.8992049\ttotal: 272ms\tremaining: 5.91s\n",
      "44:\tlearn: 0.8986635\ttotal: 278ms\tremaining: 5.9s\n",
      "45:\tlearn: 0.8970953\ttotal: 284ms\tremaining: 5.88s\n",
      "46:\tlearn: 0.8960651\ttotal: 289ms\tremaining: 5.86s\n",
      "47:\tlearn: 0.8947038\ttotal: 294ms\tremaining: 5.83s\n",
      "48:\tlearn: 0.8937091\ttotal: 300ms\tremaining: 5.82s\n",
      "49:\tlearn: 0.8929825\ttotal: 306ms\tremaining: 5.8s\n",
      "50:\tlearn: 0.8916682\ttotal: 311ms\tremaining: 5.79s\n",
      "51:\tlearn: 0.8908519\ttotal: 317ms\tremaining: 5.78s\n",
      "52:\tlearn: 0.8899586\ttotal: 323ms\tremaining: 5.77s\n",
      "53:\tlearn: 0.8893713\ttotal: 329ms\tremaining: 5.76s\n",
      "54:\tlearn: 0.8880467\ttotal: 335ms\tremaining: 5.75s\n",
      "55:\tlearn: 0.8867772\ttotal: 341ms\tremaining: 5.75s\n",
      "56:\tlearn: 0.8854365\ttotal: 348ms\tremaining: 5.76s\n",
      "57:\tlearn: 0.8840207\ttotal: 354ms\tremaining: 5.75s\n",
      "58:\tlearn: 0.8832888\ttotal: 361ms\tremaining: 5.76s\n",
      "59:\tlearn: 0.8817297\ttotal: 368ms\tremaining: 5.76s\n",
      "60:\tlearn: 0.8804259\ttotal: 375ms\tremaining: 5.78s\n",
      "61:\tlearn: 0.8794888\ttotal: 382ms\tremaining: 5.78s\n",
      "62:\tlearn: 0.8782999\ttotal: 389ms\tremaining: 5.78s\n",
      "63:\tlearn: 0.8773342\ttotal: 395ms\tremaining: 5.77s\n",
      "64:\tlearn: 0.8763473\ttotal: 402ms\tremaining: 5.78s\n",
      "65:\tlearn: 0.8752009\ttotal: 410ms\tremaining: 5.8s\n",
      "66:\tlearn: 0.8742689\ttotal: 419ms\tremaining: 5.83s\n",
      "67:\tlearn: 0.8729669\ttotal: 426ms\tremaining: 5.84s\n",
      "68:\tlearn: 0.8718316\ttotal: 436ms\tremaining: 5.89s\n",
      "69:\tlearn: 0.8711891\ttotal: 444ms\tremaining: 5.9s\n",
      "70:\tlearn: 0.8704626\ttotal: 450ms\tremaining: 5.89s\n",
      "71:\tlearn: 0.8693529\ttotal: 457ms\tremaining: 5.89s\n",
      "72:\tlearn: 0.8680568\ttotal: 465ms\tremaining: 5.91s\n",
      "73:\tlearn: 0.8673100\ttotal: 473ms\tremaining: 5.92s\n",
      "74:\tlearn: 0.8661357\ttotal: 481ms\tremaining: 5.94s\n",
      "75:\tlearn: 0.8648821\ttotal: 488ms\tremaining: 5.93s\n",
      "76:\tlearn: 0.8640588\ttotal: 495ms\tremaining: 5.93s\n",
      "77:\tlearn: 0.8634303\ttotal: 502ms\tremaining: 5.93s\n",
      "78:\tlearn: 0.8624789\ttotal: 507ms\tremaining: 5.92s\n",
      "79:\tlearn: 0.8616338\ttotal: 514ms\tremaining: 5.91s\n",
      "80:\tlearn: 0.8610491\ttotal: 524ms\tremaining: 5.94s\n",
      "81:\tlearn: 0.8603416\ttotal: 532ms\tremaining: 5.96s\n",
      "82:\tlearn: 0.8597496\ttotal: 541ms\tremaining: 5.97s\n",
      "83:\tlearn: 0.8589547\ttotal: 549ms\tremaining: 5.99s\n",
      "84:\tlearn: 0.8579977\ttotal: 557ms\tremaining: 6s\n",
      "85:\tlearn: 0.8568569\ttotal: 566ms\tremaining: 6.01s\n",
      "86:\tlearn: 0.8555465\ttotal: 574ms\tremaining: 6.02s\n",
      "87:\tlearn: 0.8548970\ttotal: 580ms\tremaining: 6.01s\n",
      "88:\tlearn: 0.8538203\ttotal: 587ms\tremaining: 6.01s\n",
      "89:\tlearn: 0.8532292\ttotal: 595ms\tremaining: 6.01s\n",
      "90:\tlearn: 0.8515323\ttotal: 601ms\tremaining: 6.01s\n",
      "91:\tlearn: 0.8504404\ttotal: 607ms\tremaining: 5.99s\n",
      "92:\tlearn: 0.8496538\ttotal: 616ms\tremaining: 6.01s\n",
      "93:\tlearn: 0.8487129\ttotal: 624ms\tremaining: 6.02s\n",
      "94:\tlearn: 0.8479665\ttotal: 634ms\tremaining: 6.04s\n",
      "95:\tlearn: 0.8468066\ttotal: 643ms\tremaining: 6.05s\n",
      "96:\tlearn: 0.8459226\ttotal: 650ms\tremaining: 6.05s\n",
      "97:\tlearn: 0.8453438\ttotal: 656ms\tremaining: 6.03s\n",
      "98:\tlearn: 0.8443130\ttotal: 663ms\tremaining: 6.04s\n",
      "99:\tlearn: 0.8434010\ttotal: 671ms\tremaining: 6.04s\n",
      "100:\tlearn: 0.8423979\ttotal: 680ms\tremaining: 6.05s\n",
      "101:\tlearn: 0.8418272\ttotal: 689ms\tremaining: 6.07s\n",
      "102:\tlearn: 0.8411141\ttotal: 697ms\tremaining: 6.07s\n",
      "103:\tlearn: 0.8403064\ttotal: 704ms\tremaining: 6.07s\n",
      "104:\tlearn: 0.8394026\ttotal: 711ms\tremaining: 6.06s\n",
      "105:\tlearn: 0.8381764\ttotal: 745ms\tremaining: 6.29s\n",
      "106:\tlearn: 0.8373184\ttotal: 766ms\tremaining: 6.4s\n",
      "107:\tlearn: 0.8366134\ttotal: 778ms\tremaining: 6.43s\n",
      "108:\tlearn: 0.8360516\ttotal: 786ms\tremaining: 6.42s\n",
      "109:\tlearn: 0.8354628\ttotal: 795ms\tremaining: 6.43s\n",
      "110:\tlearn: 0.8347289\ttotal: 803ms\tremaining: 6.43s\n",
      "111:\tlearn: 0.8334786\ttotal: 813ms\tremaining: 6.44s\n",
      "112:\tlearn: 0.8326791\ttotal: 821ms\tremaining: 6.44s\n",
      "113:\tlearn: 0.8319063\ttotal: 826ms\tremaining: 6.42s\n",
      "114:\tlearn: 0.8310358\ttotal: 850ms\tremaining: 6.54s\n",
      "115:\tlearn: 0.8302309\ttotal: 858ms\tremaining: 6.54s\n",
      "116:\tlearn: 0.8291909\ttotal: 866ms\tremaining: 6.53s\n",
      "117:\tlearn: 0.8282665\ttotal: 873ms\tremaining: 6.52s\n",
      "118:\tlearn: 0.8268952\ttotal: 881ms\tremaining: 6.52s\n",
      "119:\tlearn: 0.8247252\ttotal: 892ms\tremaining: 6.54s\n",
      "120:\tlearn: 0.8239561\ttotal: 902ms\tremaining: 6.55s\n",
      "121:\tlearn: 0.8221553\ttotal: 910ms\tremaining: 6.55s\n",
      "122:\tlearn: 0.8215263\ttotal: 918ms\tremaining: 6.55s\n",
      "123:\tlearn: 0.8206201\ttotal: 925ms\tremaining: 6.54s\n",
      "124:\tlearn: 0.8198031\ttotal: 932ms\tremaining: 6.53s\n",
      "125:\tlearn: 0.8189218\ttotal: 939ms\tremaining: 6.51s\n",
      "126:\tlearn: 0.8179128\ttotal: 947ms\tremaining: 6.51s\n",
      "127:\tlearn: 0.8162573\ttotal: 954ms\tremaining: 6.5s\n",
      "128:\tlearn: 0.8156725\ttotal: 963ms\tremaining: 6.5s\n",
      "129:\tlearn: 0.8150999\ttotal: 970ms\tremaining: 6.49s\n",
      "130:\tlearn: 0.8144693\ttotal: 979ms\tremaining: 6.49s\n",
      "131:\tlearn: 0.8137038\ttotal: 985ms\tremaining: 6.48s\n",
      "132:\tlearn: 0.8127607\ttotal: 992ms\tremaining: 6.47s\n",
      "133:\tlearn: 0.8116310\ttotal: 1s\tremaining: 6.46s\n",
      "134:\tlearn: 0.8106477\ttotal: 1.01s\tremaining: 6.46s\n",
      "135:\tlearn: 0.8099293\ttotal: 1.01s\tremaining: 6.45s\n",
      "136:\tlearn: 0.8085961\ttotal: 1.02s\tremaining: 6.44s\n",
      "137:\tlearn: 0.8077611\ttotal: 1.03s\tremaining: 6.45s\n",
      "138:\tlearn: 0.8061940\ttotal: 1.04s\tremaining: 6.45s\n",
      "139:\tlearn: 0.8052217\ttotal: 1.05s\tremaining: 6.44s\n",
      "140:\tlearn: 0.8042615\ttotal: 1.05s\tremaining: 6.43s\n",
      "141:\tlearn: 0.8033442\ttotal: 1.06s\tremaining: 6.42s\n",
      "142:\tlearn: 0.8024315\ttotal: 1.07s\tremaining: 6.42s\n",
      "143:\tlearn: 0.8016983\ttotal: 1.08s\tremaining: 6.41s\n",
      "144:\tlearn: 0.8007995\ttotal: 1.09s\tremaining: 6.42s\n",
      "145:\tlearn: 0.8002205\ttotal: 1.1s\tremaining: 6.43s\n",
      "146:\tlearn: 0.7991201\ttotal: 1.11s\tremaining: 6.46s\n",
      "147:\tlearn: 0.7985058\ttotal: 1.13s\tremaining: 6.48s\n",
      "148:\tlearn: 0.7977922\ttotal: 1.14s\tremaining: 6.49s\n",
      "149:\tlearn: 0.7962512\ttotal: 1.15s\tremaining: 6.51s\n",
      "150:\tlearn: 0.7947689\ttotal: 1.16s\tremaining: 6.53s\n",
      "151:\tlearn: 0.7941666\ttotal: 1.17s\tremaining: 6.55s\n",
      "152:\tlearn: 0.7931480\ttotal: 1.18s\tremaining: 6.55s\n",
      "153:\tlearn: 0.7920971\ttotal: 1.19s\tremaining: 6.55s\n",
      "154:\tlearn: 0.7916667\ttotal: 1.2s\tremaining: 6.55s\n",
      "155:\tlearn: 0.7907324\ttotal: 1.21s\tremaining: 6.55s\n",
      "156:\tlearn: 0.7903571\ttotal: 1.22s\tremaining: 6.53s\n",
      "157:\tlearn: 0.7895778\ttotal: 1.22s\tremaining: 6.52s\n",
      "158:\tlearn: 0.7889625\ttotal: 1.23s\tremaining: 6.51s\n",
      "159:\tlearn: 0.7879261\ttotal: 1.24s\tremaining: 6.51s\n",
      "160:\tlearn: 0.7871274\ttotal: 1.25s\tremaining: 6.5s\n",
      "161:\tlearn: 0.7861217\ttotal: 1.25s\tremaining: 6.49s\n",
      "162:\tlearn: 0.7853303\ttotal: 1.26s\tremaining: 6.49s\n",
      "163:\tlearn: 0.7847206\ttotal: 1.27s\tremaining: 6.48s\n",
      "164:\tlearn: 0.7838317\ttotal: 1.28s\tremaining: 6.48s\n",
      "165:\tlearn: 0.7834957\ttotal: 1.29s\tremaining: 6.48s\n",
      "166:\tlearn: 0.7828019\ttotal: 1.3s\tremaining: 6.48s\n",
      "167:\tlearn: 0.7813905\ttotal: 1.31s\tremaining: 6.48s\n",
      "168:\tlearn: 0.7808243\ttotal: 1.32s\tremaining: 6.47s\n",
      "169:\tlearn: 0.7802415\ttotal: 1.32s\tremaining: 6.47s\n",
      "170:\tlearn: 0.7794771\ttotal: 1.33s\tremaining: 6.47s\n",
      "171:\tlearn: 0.7786966\ttotal: 1.34s\tremaining: 6.46s\n",
      "172:\tlearn: 0.7779594\ttotal: 1.35s\tremaining: 6.46s\n",
      "173:\tlearn: 0.7769651\ttotal: 1.36s\tremaining: 6.45s\n",
      "174:\tlearn: 0.7762569\ttotal: 1.37s\tremaining: 6.45s\n",
      "175:\tlearn: 0.7755373\ttotal: 1.38s\tremaining: 6.44s\n",
      "176:\tlearn: 0.7747319\ttotal: 1.39s\tremaining: 6.44s\n",
      "177:\tlearn: 0.7740427\ttotal: 1.39s\tremaining: 6.44s\n",
      "178:\tlearn: 0.7729839\ttotal: 1.4s\tremaining: 6.43s\n",
      "179:\tlearn: 0.7721647\ttotal: 1.41s\tremaining: 6.42s\n",
      "180:\tlearn: 0.7710989\ttotal: 1.42s\tremaining: 6.42s\n",
      "181:\tlearn: 0.7701576\ttotal: 1.43s\tremaining: 6.42s\n",
      "182:\tlearn: 0.7689315\ttotal: 1.44s\tremaining: 6.42s\n",
      "183:\tlearn: 0.7683546\ttotal: 1.45s\tremaining: 6.41s\n",
      "184:\tlearn: 0.7678181\ttotal: 1.45s\tremaining: 6.41s\n",
      "185:\tlearn: 0.7671086\ttotal: 1.46s\tremaining: 6.4s\n",
      "186:\tlearn: 0.7665260\ttotal: 1.47s\tremaining: 6.4s\n",
      "187:\tlearn: 0.7659616\ttotal: 1.48s\tremaining: 6.39s\n",
      "188:\tlearn: 0.7650340\ttotal: 1.49s\tremaining: 6.39s\n",
      "189:\tlearn: 0.7642782\ttotal: 1.5s\tremaining: 6.39s\n",
      "190:\tlearn: 0.7635373\ttotal: 1.51s\tremaining: 6.38s\n",
      "191:\tlearn: 0.7631135\ttotal: 1.52s\tremaining: 6.38s\n",
      "192:\tlearn: 0.7621852\ttotal: 1.52s\tremaining: 6.38s\n",
      "193:\tlearn: 0.7613979\ttotal: 1.53s\tremaining: 6.38s\n",
      "194:\tlearn: 0.7609162\ttotal: 1.54s\tremaining: 6.37s\n",
      "195:\tlearn: 0.7600766\ttotal: 1.55s\tremaining: 6.37s\n",
      "196:\tlearn: 0.7593721\ttotal: 1.56s\tremaining: 6.37s\n",
      "197:\tlearn: 0.7585027\ttotal: 1.57s\tremaining: 6.36s\n",
      "198:\tlearn: 0.7577193\ttotal: 1.58s\tremaining: 6.36s\n",
      "199:\tlearn: 0.7570839\ttotal: 1.59s\tremaining: 6.36s\n",
      "200:\tlearn: 0.7562885\ttotal: 1.6s\tremaining: 6.35s\n",
      "201:\tlearn: 0.7558269\ttotal: 1.61s\tremaining: 6.34s\n",
      "202:\tlearn: 0.7547108\ttotal: 1.61s\tremaining: 6.34s\n",
      "203:\tlearn: 0.7540239\ttotal: 1.62s\tremaining: 6.34s\n",
      "204:\tlearn: 0.7533572\ttotal: 1.63s\tremaining: 6.34s\n",
      "205:\tlearn: 0.7522563\ttotal: 1.64s\tremaining: 6.33s\n",
      "206:\tlearn: 0.7517811\ttotal: 1.65s\tremaining: 6.33s\n",
      "207:\tlearn: 0.7508967\ttotal: 1.66s\tremaining: 6.33s\n",
      "208:\tlearn: 0.7505197\ttotal: 1.67s\tremaining: 6.32s\n",
      "209:\tlearn: 0.7497627\ttotal: 1.68s\tremaining: 6.32s\n",
      "210:\tlearn: 0.7489236\ttotal: 1.69s\tremaining: 6.31s\n",
      "211:\tlearn: 0.7483594\ttotal: 1.7s\tremaining: 6.3s\n",
      "212:\tlearn: 0.7478094\ttotal: 1.7s\tremaining: 6.29s\n",
      "213:\tlearn: 0.7472274\ttotal: 1.71s\tremaining: 6.28s\n",
      "214:\tlearn: 0.7461255\ttotal: 1.72s\tremaining: 6.27s\n",
      "215:\tlearn: 0.7450112\ttotal: 1.72s\tremaining: 6.25s\n",
      "216:\tlearn: 0.7435260\ttotal: 1.73s\tremaining: 6.25s\n",
      "217:\tlearn: 0.7426582\ttotal: 1.74s\tremaining: 6.24s\n",
      "218:\tlearn: 0.7421702\ttotal: 1.75s\tremaining: 6.22s\n",
      "219:\tlearn: 0.7414453\ttotal: 1.75s\tremaining: 6.22s\n",
      "220:\tlearn: 0.7407928\ttotal: 1.76s\tremaining: 6.21s\n",
      "221:\tlearn: 0.7393653\ttotal: 1.77s\tremaining: 6.2s\n",
      "222:\tlearn: 0.7388960\ttotal: 1.78s\tremaining: 6.2s\n",
      "223:\tlearn: 0.7384875\ttotal: 1.78s\tremaining: 6.19s\n",
      "224:\tlearn: 0.7381158\ttotal: 1.79s\tremaining: 6.18s\n",
      "225:\tlearn: 0.7375303\ttotal: 1.8s\tremaining: 6.17s\n",
      "226:\tlearn: 0.7364439\ttotal: 1.81s\tremaining: 6.17s\n",
      "227:\tlearn: 0.7358324\ttotal: 1.82s\tremaining: 6.16s\n",
      "228:\tlearn: 0.7351413\ttotal: 1.83s\tremaining: 6.16s\n",
      "229:\tlearn: 0.7344544\ttotal: 1.84s\tremaining: 6.15s\n",
      "230:\tlearn: 0.7339107\ttotal: 1.84s\tremaining: 6.14s\n",
      "231:\tlearn: 0.7328678\ttotal: 1.85s\tremaining: 6.14s\n",
      "232:\tlearn: 0.7317403\ttotal: 1.86s\tremaining: 6.13s\n",
      "233:\tlearn: 0.7310117\ttotal: 1.87s\tremaining: 6.13s\n",
      "234:\tlearn: 0.7298270\ttotal: 1.88s\tremaining: 6.12s\n",
      "235:\tlearn: 0.7288936\ttotal: 1.89s\tremaining: 6.11s\n",
      "236:\tlearn: 0.7281341\ttotal: 1.9s\tremaining: 6.11s\n",
      "237:\tlearn: 0.7273790\ttotal: 1.91s\tremaining: 6.1s\n",
      "238:\tlearn: 0.7264869\ttotal: 1.92s\tremaining: 6.1s\n",
      "239:\tlearn: 0.7257980\ttotal: 1.92s\tremaining: 6.09s\n",
      "240:\tlearn: 0.7251063\ttotal: 1.93s\tremaining: 6.08s\n",
      "241:\tlearn: 0.7242407\ttotal: 1.94s\tremaining: 6.08s\n",
      "242:\tlearn: 0.7233117\ttotal: 1.95s\tremaining: 6.07s\n",
      "243:\tlearn: 0.7226731\ttotal: 1.96s\tremaining: 6.07s\n",
      "244:\tlearn: 0.7221472\ttotal: 1.97s\tremaining: 6.06s\n",
      "245:\tlearn: 0.7216258\ttotal: 1.97s\tremaining: 6.05s\n",
      "246:\tlearn: 0.7210041\ttotal: 1.98s\tremaining: 6.04s\n",
      "247:\tlearn: 0.7201745\ttotal: 1.99s\tremaining: 6.04s\n",
      "248:\tlearn: 0.7199027\ttotal: 2s\tremaining: 6.03s\n",
      "249:\tlearn: 0.7193483\ttotal: 2.01s\tremaining: 6.02s\n",
      "250:\tlearn: 0.7181687\ttotal: 2.02s\tremaining: 6.02s\n",
      "251:\tlearn: 0.7178558\ttotal: 2.03s\tremaining: 6.02s\n",
      "252:\tlearn: 0.7172760\ttotal: 2.04s\tremaining: 6.01s\n",
      "253:\tlearn: 0.7163179\ttotal: 2.05s\tremaining: 6.01s\n",
      "254:\tlearn: 0.7156345\ttotal: 2.05s\tremaining: 6s\n",
      "255:\tlearn: 0.7147859\ttotal: 2.06s\tremaining: 6s\n",
      "256:\tlearn: 0.7138646\ttotal: 2.07s\tremaining: 6s\n",
      "257:\tlearn: 0.7126890\ttotal: 2.09s\tremaining: 6.01s\n",
      "258:\tlearn: 0.7121317\ttotal: 2.1s\tremaining: 6s\n",
      "259:\tlearn: 0.7115752\ttotal: 2.11s\tremaining: 6s\n",
      "260:\tlearn: 0.7109977\ttotal: 2.12s\tremaining: 5.99s\n",
      "261:\tlearn: 0.7104785\ttotal: 2.12s\tremaining: 5.98s\n",
      "262:\tlearn: 0.7099077\ttotal: 2.13s\tremaining: 5.96s\n",
      "263:\tlearn: 0.7091066\ttotal: 2.13s\tremaining: 5.95s\n",
      "264:\tlearn: 0.7081436\ttotal: 2.14s\tremaining: 5.94s\n",
      "265:\tlearn: 0.7076052\ttotal: 2.15s\tremaining: 5.93s\n",
      "266:\tlearn: 0.7068208\ttotal: 2.16s\tremaining: 5.92s\n",
      "267:\tlearn: 0.7061139\ttotal: 2.16s\tremaining: 5.91s\n",
      "268:\tlearn: 0.7054768\ttotal: 2.17s\tremaining: 5.9s\n",
      "269:\tlearn: 0.7049354\ttotal: 2.17s\tremaining: 5.88s\n",
      "270:\tlearn: 0.7037779\ttotal: 2.18s\tremaining: 5.87s\n",
      "271:\tlearn: 0.7030500\ttotal: 2.19s\tremaining: 5.86s\n",
      "272:\tlearn: 0.7025632\ttotal: 2.19s\tremaining: 5.84s\n",
      "273:\tlearn: 0.7020787\ttotal: 2.2s\tremaining: 5.83s\n",
      "274:\tlearn: 0.7015354\ttotal: 2.21s\tremaining: 5.82s\n",
      "275:\tlearn: 0.7001328\ttotal: 2.21s\tremaining: 5.81s\n",
      "276:\tlearn: 0.6997014\ttotal: 2.22s\tremaining: 5.8s\n",
      "277:\tlearn: 0.6989375\ttotal: 2.23s\tremaining: 5.79s\n",
      "278:\tlearn: 0.6981303\ttotal: 2.23s\tremaining: 5.78s\n",
      "279:\tlearn: 0.6971305\ttotal: 2.24s\tremaining: 5.76s\n",
      "280:\tlearn: 0.6965591\ttotal: 2.25s\tremaining: 5.75s\n",
      "281:\tlearn: 0.6958878\ttotal: 2.25s\tremaining: 5.74s\n",
      "282:\tlearn: 0.6952108\ttotal: 2.26s\tremaining: 5.73s\n",
      "283:\tlearn: 0.6948030\ttotal: 2.27s\tremaining: 5.72s\n",
      "284:\tlearn: 0.6941716\ttotal: 2.28s\tremaining: 5.71s\n",
      "285:\tlearn: 0.6936085\ttotal: 2.28s\tremaining: 5.7s\n",
      "286:\tlearn: 0.6925537\ttotal: 2.29s\tremaining: 5.69s\n",
      "287:\tlearn: 0.6919625\ttotal: 2.3s\tremaining: 5.68s\n",
      "288:\tlearn: 0.6908193\ttotal: 2.3s\tremaining: 5.67s\n",
      "289:\tlearn: 0.6901818\ttotal: 2.31s\tremaining: 5.66s\n",
      "290:\tlearn: 0.6889799\ttotal: 2.32s\tremaining: 5.65s\n",
      "291:\tlearn: 0.6883280\ttotal: 2.33s\tremaining: 5.64s\n",
      "292:\tlearn: 0.6876601\ttotal: 2.33s\tremaining: 5.63s\n",
      "293:\tlearn: 0.6870484\ttotal: 2.34s\tremaining: 5.62s\n",
      "294:\tlearn: 0.6866154\ttotal: 2.35s\tremaining: 5.61s\n",
      "295:\tlearn: 0.6859919\ttotal: 2.35s\tremaining: 5.6s\n",
      "296:\tlearn: 0.6854189\ttotal: 2.36s\tremaining: 5.59s\n",
      "297:\tlearn: 0.6847547\ttotal: 2.37s\tremaining: 5.58s\n",
      "298:\tlearn: 0.6845046\ttotal: 2.38s\tremaining: 5.57s\n",
      "299:\tlearn: 0.6840764\ttotal: 2.38s\tremaining: 5.56s\n",
      "300:\tlearn: 0.6835344\ttotal: 2.39s\tremaining: 5.55s\n",
      "301:\tlearn: 0.6830132\ttotal: 2.4s\tremaining: 5.54s\n",
      "302:\tlearn: 0.6819624\ttotal: 2.4s\tremaining: 5.53s\n",
      "303:\tlearn: 0.6814417\ttotal: 2.41s\tremaining: 5.52s\n",
      "304:\tlearn: 0.6811102\ttotal: 2.42s\tremaining: 5.51s\n",
      "305:\tlearn: 0.6807427\ttotal: 2.43s\tremaining: 5.5s\n",
      "306:\tlearn: 0.6801194\ttotal: 2.43s\tremaining: 5.5s\n",
      "307:\tlearn: 0.6795882\ttotal: 2.44s\tremaining: 5.49s\n",
      "308:\tlearn: 0.6789032\ttotal: 2.45s\tremaining: 5.48s\n",
      "309:\tlearn: 0.6783109\ttotal: 2.46s\tremaining: 5.47s\n",
      "310:\tlearn: 0.6778307\ttotal: 2.47s\tremaining: 5.46s\n",
      "311:\tlearn: 0.6769776\ttotal: 2.48s\tremaining: 5.46s\n",
      "312:\tlearn: 0.6764643\ttotal: 2.48s\tremaining: 5.45s\n",
      "313:\tlearn: 0.6760880\ttotal: 2.49s\tremaining: 5.44s\n",
      "314:\tlearn: 0.6751746\ttotal: 2.5s\tremaining: 5.43s\n",
      "315:\tlearn: 0.6740847\ttotal: 2.5s\tremaining: 5.42s\n",
      "316:\tlearn: 0.6737276\ttotal: 2.51s\tremaining: 5.41s\n",
      "317:\tlearn: 0.6732734\ttotal: 2.52s\tremaining: 5.4s\n",
      "318:\tlearn: 0.6729429\ttotal: 2.53s\tremaining: 5.4s\n",
      "319:\tlearn: 0.6724385\ttotal: 2.54s\tremaining: 5.39s\n",
      "320:\tlearn: 0.6717030\ttotal: 2.54s\tremaining: 5.38s\n",
      "321:\tlearn: 0.6710520\ttotal: 2.55s\tremaining: 5.37s\n",
      "322:\tlearn: 0.6707009\ttotal: 2.56s\tremaining: 5.37s\n",
      "323:\tlearn: 0.6703732\ttotal: 2.57s\tremaining: 5.35s\n",
      "324:\tlearn: 0.6699471\ttotal: 2.57s\tremaining: 5.34s\n",
      "325:\tlearn: 0.6687587\ttotal: 2.58s\tremaining: 5.34s\n",
      "326:\tlearn: 0.6682352\ttotal: 2.59s\tremaining: 5.33s\n",
      "327:\tlearn: 0.6676929\ttotal: 2.59s\tremaining: 5.31s\n",
      "328:\tlearn: 0.6671411\ttotal: 2.6s\tremaining: 5.3s\n",
      "329:\tlearn: 0.6661106\ttotal: 2.61s\tremaining: 5.29s\n",
      "330:\tlearn: 0.6656110\ttotal: 2.61s\tremaining: 5.28s\n",
      "331:\tlearn: 0.6650458\ttotal: 2.62s\tremaining: 5.28s\n",
      "332:\tlearn: 0.6645421\ttotal: 2.63s\tremaining: 5.27s\n",
      "333:\tlearn: 0.6638982\ttotal: 2.64s\tremaining: 5.26s\n",
      "334:\tlearn: 0.6636763\ttotal: 2.64s\tremaining: 5.25s\n",
      "335:\tlearn: 0.6632081\ttotal: 2.65s\tremaining: 5.24s\n",
      "336:\tlearn: 0.6624544\ttotal: 2.66s\tremaining: 5.23s\n",
      "337:\tlearn: 0.6618502\ttotal: 2.67s\tremaining: 5.22s\n",
      "338:\tlearn: 0.6612944\ttotal: 2.68s\tremaining: 5.22s\n",
      "339:\tlearn: 0.6606074\ttotal: 2.68s\tremaining: 5.21s\n",
      "340:\tlearn: 0.6597187\ttotal: 2.69s\tremaining: 5.2s\n",
      "341:\tlearn: 0.6588308\ttotal: 2.7s\tremaining: 5.19s\n",
      "342:\tlearn: 0.6584163\ttotal: 2.71s\tremaining: 5.18s\n",
      "343:\tlearn: 0.6581340\ttotal: 2.71s\tremaining: 5.17s\n",
      "344:\tlearn: 0.6576235\ttotal: 2.72s\tremaining: 5.17s\n",
      "345:\tlearn: 0.6572045\ttotal: 2.73s\tremaining: 5.15s\n",
      "346:\tlearn: 0.6563946\ttotal: 2.73s\tremaining: 5.14s\n",
      "347:\tlearn: 0.6558618\ttotal: 2.74s\tremaining: 5.13s\n",
      "348:\tlearn: 0.6552769\ttotal: 2.75s\tremaining: 5.12s\n",
      "349:\tlearn: 0.6548981\ttotal: 2.75s\tremaining: 5.11s\n",
      "350:\tlearn: 0.6544762\ttotal: 2.76s\tremaining: 5.1s\n",
      "351:\tlearn: 0.6539025\ttotal: 2.77s\tremaining: 5.09s\n",
      "352:\tlearn: 0.6535824\ttotal: 2.77s\tremaining: 5.08s\n",
      "353:\tlearn: 0.6527453\ttotal: 2.78s\tremaining: 5.07s\n",
      "354:\tlearn: 0.6522873\ttotal: 2.79s\tremaining: 5.06s\n",
      "355:\tlearn: 0.6519345\ttotal: 2.79s\tremaining: 5.05s\n",
      "356:\tlearn: 0.6515468\ttotal: 2.8s\tremaining: 5.04s\n",
      "357:\tlearn: 0.6513786\ttotal: 2.81s\tremaining: 5.03s\n",
      "358:\tlearn: 0.6507041\ttotal: 2.81s\tremaining: 5.02s\n",
      "359:\tlearn: 0.6501481\ttotal: 2.82s\tremaining: 5.01s\n",
      "360:\tlearn: 0.6493555\ttotal: 2.83s\tremaining: 5s\n",
      "361:\tlearn: 0.6486086\ttotal: 2.83s\tremaining: 4.99s\n",
      "362:\tlearn: 0.6481160\ttotal: 2.84s\tremaining: 4.98s\n",
      "363:\tlearn: 0.6475665\ttotal: 2.85s\tremaining: 4.97s\n",
      "364:\tlearn: 0.6470125\ttotal: 2.85s\tremaining: 4.96s\n",
      "365:\tlearn: 0.6466178\ttotal: 2.86s\tremaining: 4.96s\n",
      "366:\tlearn: 0.6458845\ttotal: 2.87s\tremaining: 4.95s\n",
      "367:\tlearn: 0.6452527\ttotal: 2.88s\tremaining: 4.94s\n",
      "368:\tlearn: 0.6444530\ttotal: 2.88s\tremaining: 4.93s\n",
      "369:\tlearn: 0.6437899\ttotal: 2.89s\tremaining: 4.92s\n",
      "370:\tlearn: 0.6434625\ttotal: 2.9s\tremaining: 4.91s\n",
      "371:\tlearn: 0.6427034\ttotal: 2.9s\tremaining: 4.9s\n",
      "372:\tlearn: 0.6422531\ttotal: 2.91s\tremaining: 4.89s\n",
      "373:\tlearn: 0.6416327\ttotal: 2.92s\tremaining: 4.88s\n",
      "374:\tlearn: 0.6412583\ttotal: 2.92s\tremaining: 4.88s\n",
      "375:\tlearn: 0.6408958\ttotal: 2.93s\tremaining: 4.86s\n",
      "376:\tlearn: 0.6405013\ttotal: 2.94s\tremaining: 4.86s\n",
      "377:\tlearn: 0.6400260\ttotal: 2.94s\tremaining: 4.85s\n",
      "378:\tlearn: 0.6397453\ttotal: 2.95s\tremaining: 4.84s\n",
      "379:\tlearn: 0.6389403\ttotal: 2.96s\tremaining: 4.83s\n",
      "380:\tlearn: 0.6380886\ttotal: 2.97s\tremaining: 4.82s\n",
      "381:\tlearn: 0.6375784\ttotal: 2.97s\tremaining: 4.81s\n",
      "382:\tlearn: 0.6373281\ttotal: 2.98s\tremaining: 4.8s\n",
      "383:\tlearn: 0.6367385\ttotal: 2.99s\tremaining: 4.79s\n",
      "384:\tlearn: 0.6363669\ttotal: 3s\tremaining: 4.79s\n",
      "385:\tlearn: 0.6358085\ttotal: 3s\tremaining: 4.78s\n",
      "386:\tlearn: 0.6348140\ttotal: 3.01s\tremaining: 4.77s\n",
      "387:\tlearn: 0.6343917\ttotal: 3.02s\tremaining: 4.76s\n",
      "388:\tlearn: 0.6339496\ttotal: 3.02s\tremaining: 4.75s\n",
      "389:\tlearn: 0.6333244\ttotal: 3.03s\tremaining: 4.74s\n",
      "390:\tlearn: 0.6329733\ttotal: 3.04s\tremaining: 4.73s\n",
      "391:\tlearn: 0.6323251\ttotal: 3.04s\tremaining: 4.72s\n",
      "392:\tlearn: 0.6318482\ttotal: 3.05s\tremaining: 4.71s\n",
      "393:\tlearn: 0.6313303\ttotal: 3.06s\tremaining: 4.71s\n",
      "394:\tlearn: 0.6306839\ttotal: 3.07s\tremaining: 4.7s\n",
      "395:\tlearn: 0.6302035\ttotal: 3.07s\tremaining: 4.69s\n",
      "396:\tlearn: 0.6298090\ttotal: 3.08s\tremaining: 4.68s\n",
      "397:\tlearn: 0.6292456\ttotal: 3.09s\tremaining: 4.67s\n",
      "398:\tlearn: 0.6287450\ttotal: 3.1s\tremaining: 4.67s\n",
      "399:\tlearn: 0.6283144\ttotal: 3.1s\tremaining: 4.65s\n",
      "400:\tlearn: 0.6280428\ttotal: 3.11s\tremaining: 4.64s\n",
      "401:\tlearn: 0.6274362\ttotal: 3.12s\tremaining: 4.63s\n",
      "402:\tlearn: 0.6271809\ttotal: 3.12s\tremaining: 4.62s\n",
      "403:\tlearn: 0.6266088\ttotal: 3.13s\tremaining: 4.61s\n",
      "404:\tlearn: 0.6258367\ttotal: 3.13s\tremaining: 4.6s\n",
      "405:\tlearn: 0.6250702\ttotal: 3.14s\tremaining: 4.59s\n",
      "406:\tlearn: 0.6243080\ttotal: 3.15s\tremaining: 4.58s\n",
      "407:\tlearn: 0.6240224\ttotal: 3.15s\tremaining: 4.58s\n",
      "408:\tlearn: 0.6235140\ttotal: 3.16s\tremaining: 4.57s\n",
      "409:\tlearn: 0.6231850\ttotal: 3.17s\tremaining: 4.55s\n",
      "410:\tlearn: 0.6223251\ttotal: 3.17s\tremaining: 4.54s\n",
      "411:\tlearn: 0.6213150\ttotal: 3.18s\tremaining: 4.54s\n",
      "412:\tlearn: 0.6208170\ttotal: 3.19s\tremaining: 4.53s\n",
      "413:\tlearn: 0.6204942\ttotal: 3.19s\tremaining: 4.52s\n",
      "414:\tlearn: 0.6201272\ttotal: 3.2s\tremaining: 4.51s\n",
      "415:\tlearn: 0.6196566\ttotal: 3.21s\tremaining: 4.5s\n",
      "416:\tlearn: 0.6193683\ttotal: 3.21s\tremaining: 4.49s\n",
      "417:\tlearn: 0.6188171\ttotal: 3.22s\tremaining: 4.48s\n",
      "418:\tlearn: 0.6182527\ttotal: 3.23s\tremaining: 4.47s\n",
      "419:\tlearn: 0.6180162\ttotal: 3.23s\tremaining: 4.46s\n",
      "420:\tlearn: 0.6177753\ttotal: 3.24s\tremaining: 4.45s\n",
      "421:\tlearn: 0.6175721\ttotal: 3.25s\tremaining: 4.45s\n",
      "422:\tlearn: 0.6171125\ttotal: 3.25s\tremaining: 4.44s\n",
      "423:\tlearn: 0.6165145\ttotal: 3.26s\tremaining: 4.43s\n",
      "424:\tlearn: 0.6162385\ttotal: 3.27s\tremaining: 4.42s\n",
      "425:\tlearn: 0.6158669\ttotal: 3.28s\tremaining: 4.41s\n",
      "426:\tlearn: 0.6150239\ttotal: 3.29s\tremaining: 4.41s\n",
      "427:\tlearn: 0.6143685\ttotal: 3.29s\tremaining: 4.4s\n",
      "428:\tlearn: 0.6138722\ttotal: 3.3s\tremaining: 4.4s\n",
      "429:\tlearn: 0.6132167\ttotal: 3.31s\tremaining: 4.39s\n",
      "430:\tlearn: 0.6128498\ttotal: 3.32s\tremaining: 4.38s\n",
      "431:\tlearn: 0.6123756\ttotal: 3.33s\tremaining: 4.37s\n",
      "432:\tlearn: 0.6119443\ttotal: 3.33s\tremaining: 4.36s\n",
      "433:\tlearn: 0.6112323\ttotal: 3.34s\tremaining: 4.36s\n",
      "434:\tlearn: 0.6107375\ttotal: 3.35s\tremaining: 4.35s\n",
      "435:\tlearn: 0.6103063\ttotal: 3.35s\tremaining: 4.34s\n",
      "436:\tlearn: 0.6097981\ttotal: 3.36s\tremaining: 4.33s\n",
      "437:\tlearn: 0.6094356\ttotal: 3.37s\tremaining: 4.32s\n",
      "438:\tlearn: 0.6091288\ttotal: 3.37s\tremaining: 4.31s\n",
      "439:\tlearn: 0.6087569\ttotal: 3.38s\tremaining: 4.3s\n",
      "440:\tlearn: 0.6082922\ttotal: 3.39s\tremaining: 4.29s\n",
      "441:\tlearn: 0.6079414\ttotal: 3.39s\tremaining: 4.28s\n",
      "442:\tlearn: 0.6074311\ttotal: 3.4s\tremaining: 4.28s\n",
      "443:\tlearn: 0.6065851\ttotal: 3.42s\tremaining: 4.28s\n",
      "444:\tlearn: 0.6061102\ttotal: 3.42s\tremaining: 4.27s\n",
      "445:\tlearn: 0.6055124\ttotal: 3.43s\tremaining: 4.26s\n",
      "446:\tlearn: 0.6050566\ttotal: 3.43s\tremaining: 4.25s\n",
      "447:\tlearn: 0.6043223\ttotal: 3.44s\tremaining: 4.24s\n",
      "448:\tlearn: 0.6035522\ttotal: 3.45s\tremaining: 4.23s\n",
      "449:\tlearn: 0.6030790\ttotal: 3.45s\tremaining: 4.22s\n",
      "450:\tlearn: 0.6026364\ttotal: 3.46s\tremaining: 4.21s\n",
      "451:\tlearn: 0.6021015\ttotal: 3.47s\tremaining: 4.2s\n",
      "452:\tlearn: 0.6017005\ttotal: 3.47s\tremaining: 4.19s\n",
      "453:\tlearn: 0.6014172\ttotal: 3.48s\tremaining: 4.19s\n",
      "454:\tlearn: 0.6008435\ttotal: 3.49s\tremaining: 4.18s\n",
      "455:\tlearn: 0.5999548\ttotal: 3.5s\tremaining: 4.17s\n",
      "456:\tlearn: 0.5990962\ttotal: 3.5s\tremaining: 4.16s\n",
      "457:\tlearn: 0.5987304\ttotal: 3.51s\tremaining: 4.15s\n",
      "458:\tlearn: 0.5983560\ttotal: 3.52s\tremaining: 4.14s\n",
      "459:\tlearn: 0.5979828\ttotal: 3.52s\tremaining: 4.13s\n",
      "460:\tlearn: 0.5977142\ttotal: 3.53s\tremaining: 4.13s\n",
      "461:\tlearn: 0.5974427\ttotal: 3.54s\tremaining: 4.12s\n",
      "462:\tlearn: 0.5968762\ttotal: 3.54s\tremaining: 4.11s\n",
      "463:\tlearn: 0.5961475\ttotal: 3.55s\tremaining: 4.1s\n",
      "464:\tlearn: 0.5955754\ttotal: 3.56s\tremaining: 4.09s\n",
      "465:\tlearn: 0.5949070\ttotal: 3.56s\tremaining: 4.08s\n",
      "466:\tlearn: 0.5944155\ttotal: 3.57s\tremaining: 4.07s\n",
      "467:\tlearn: 0.5942036\ttotal: 3.58s\tremaining: 4.06s\n",
      "468:\tlearn: 0.5936913\ttotal: 3.58s\tremaining: 4.05s\n",
      "469:\tlearn: 0.5931218\ttotal: 3.59s\tremaining: 4.05s\n",
      "470:\tlearn: 0.5927463\ttotal: 3.6s\tremaining: 4.04s\n",
      "471:\tlearn: 0.5924762\ttotal: 3.6s\tremaining: 4.03s\n",
      "472:\tlearn: 0.5920513\ttotal: 3.61s\tremaining: 4.02s\n",
      "473:\tlearn: 0.5916466\ttotal: 3.62s\tremaining: 4.01s\n",
      "474:\tlearn: 0.5911497\ttotal: 3.62s\tremaining: 4s\n",
      "475:\tlearn: 0.5907614\ttotal: 3.63s\tremaining: 4s\n",
      "476:\tlearn: 0.5903988\ttotal: 3.64s\tremaining: 3.99s\n",
      "477:\tlearn: 0.5897729\ttotal: 3.65s\tremaining: 3.98s\n",
      "478:\tlearn: 0.5888481\ttotal: 3.65s\tremaining: 3.97s\n",
      "479:\tlearn: 0.5885441\ttotal: 3.66s\tremaining: 3.96s\n",
      "480:\tlearn: 0.5879645\ttotal: 3.67s\tremaining: 3.96s\n",
      "481:\tlearn: 0.5876358\ttotal: 3.67s\tremaining: 3.95s\n",
      "482:\tlearn: 0.5867915\ttotal: 3.68s\tremaining: 3.94s\n",
      "483:\tlearn: 0.5864211\ttotal: 3.69s\tremaining: 3.93s\n",
      "484:\tlearn: 0.5861228\ttotal: 3.7s\tremaining: 3.92s\n",
      "485:\tlearn: 0.5858038\ttotal: 3.7s\tremaining: 3.92s\n",
      "486:\tlearn: 0.5853878\ttotal: 3.71s\tremaining: 3.91s\n",
      "487:\tlearn: 0.5848357\ttotal: 3.72s\tremaining: 3.9s\n",
      "488:\tlearn: 0.5844151\ttotal: 3.72s\tremaining: 3.89s\n",
      "489:\tlearn: 0.5842160\ttotal: 3.73s\tremaining: 3.88s\n",
      "490:\tlearn: 0.5838157\ttotal: 3.73s\tremaining: 3.87s\n",
      "491:\tlearn: 0.5827205\ttotal: 3.74s\tremaining: 3.86s\n",
      "492:\tlearn: 0.5818572\ttotal: 3.75s\tremaining: 3.85s\n",
      "493:\tlearn: 0.5814671\ttotal: 3.75s\tremaining: 3.85s\n",
      "494:\tlearn: 0.5810433\ttotal: 3.76s\tremaining: 3.84s\n",
      "495:\tlearn: 0.5804991\ttotal: 3.77s\tremaining: 3.83s\n",
      "496:\tlearn: 0.5799848\ttotal: 3.77s\tremaining: 3.82s\n",
      "497:\tlearn: 0.5795738\ttotal: 3.78s\tremaining: 3.81s\n",
      "498:\tlearn: 0.5793100\ttotal: 3.79s\tremaining: 3.8s\n",
      "499:\tlearn: 0.5790409\ttotal: 3.79s\tremaining: 3.79s\n",
      "500:\tlearn: 0.5787015\ttotal: 3.8s\tremaining: 3.79s\n",
      "501:\tlearn: 0.5782086\ttotal: 3.81s\tremaining: 3.78s\n",
      "502:\tlearn: 0.5778527\ttotal: 3.81s\tremaining: 3.77s\n",
      "503:\tlearn: 0.5775589\ttotal: 3.82s\tremaining: 3.76s\n",
      "504:\tlearn: 0.5770297\ttotal: 3.83s\tremaining: 3.75s\n",
      "505:\tlearn: 0.5765970\ttotal: 3.83s\tremaining: 3.74s\n",
      "506:\tlearn: 0.5760396\ttotal: 3.84s\tremaining: 3.73s\n",
      "507:\tlearn: 0.5754486\ttotal: 3.85s\tremaining: 3.72s\n",
      "508:\tlearn: 0.5749531\ttotal: 3.85s\tremaining: 3.71s\n",
      "509:\tlearn: 0.5745427\ttotal: 3.86s\tremaining: 3.71s\n",
      "510:\tlearn: 0.5739814\ttotal: 3.86s\tremaining: 3.7s\n",
      "511:\tlearn: 0.5734926\ttotal: 3.87s\tremaining: 3.69s\n",
      "512:\tlearn: 0.5730506\ttotal: 3.88s\tremaining: 3.68s\n",
      "513:\tlearn: 0.5726881\ttotal: 3.88s\tremaining: 3.67s\n",
      "514:\tlearn: 0.5723227\ttotal: 3.89s\tremaining: 3.67s\n",
      "515:\tlearn: 0.5717783\ttotal: 3.9s\tremaining: 3.66s\n",
      "516:\tlearn: 0.5715003\ttotal: 3.91s\tremaining: 3.65s\n",
      "517:\tlearn: 0.5711226\ttotal: 3.92s\tremaining: 3.64s\n",
      "518:\tlearn: 0.5707831\ttotal: 3.92s\tremaining: 3.63s\n",
      "519:\tlearn: 0.5701569\ttotal: 3.93s\tremaining: 3.63s\n",
      "520:\tlearn: 0.5696916\ttotal: 3.94s\tremaining: 3.62s\n",
      "521:\tlearn: 0.5691589\ttotal: 3.94s\tremaining: 3.61s\n",
      "522:\tlearn: 0.5682903\ttotal: 3.95s\tremaining: 3.6s\n",
      "523:\tlearn: 0.5679154\ttotal: 3.96s\tremaining: 3.6s\n",
      "524:\tlearn: 0.5674486\ttotal: 3.97s\tremaining: 3.59s\n",
      "525:\tlearn: 0.5668881\ttotal: 3.97s\tremaining: 3.58s\n",
      "526:\tlearn: 0.5664236\ttotal: 3.98s\tremaining: 3.57s\n",
      "527:\tlearn: 0.5659163\ttotal: 3.99s\tremaining: 3.56s\n",
      "528:\tlearn: 0.5656722\ttotal: 3.99s\tremaining: 3.56s\n",
      "529:\tlearn: 0.5651169\ttotal: 4s\tremaining: 3.55s\n",
      "530:\tlearn: 0.5645972\ttotal: 4.01s\tremaining: 3.54s\n",
      "531:\tlearn: 0.5642797\ttotal: 4.01s\tremaining: 3.53s\n",
      "532:\tlearn: 0.5638897\ttotal: 4.02s\tremaining: 3.52s\n",
      "533:\tlearn: 0.5632309\ttotal: 4.02s\tremaining: 3.51s\n",
      "534:\tlearn: 0.5629520\ttotal: 4.03s\tremaining: 3.5s\n",
      "535:\tlearn: 0.5626488\ttotal: 4.04s\tremaining: 3.5s\n",
      "536:\tlearn: 0.5624134\ttotal: 4.04s\tremaining: 3.49s\n",
      "537:\tlearn: 0.5619212\ttotal: 4.05s\tremaining: 3.48s\n",
      "538:\tlearn: 0.5616664\ttotal: 4.06s\tremaining: 3.47s\n",
      "539:\tlearn: 0.5613256\ttotal: 4.06s\tremaining: 3.46s\n",
      "540:\tlearn: 0.5610476\ttotal: 4.07s\tremaining: 3.45s\n",
      "541:\tlearn: 0.5602358\ttotal: 4.08s\tremaining: 3.45s\n",
      "542:\tlearn: 0.5598393\ttotal: 4.09s\tremaining: 3.44s\n",
      "543:\tlearn: 0.5593238\ttotal: 4.09s\tremaining: 3.43s\n",
      "544:\tlearn: 0.5587552\ttotal: 4.1s\tremaining: 3.43s\n",
      "545:\tlearn: 0.5583250\ttotal: 4.11s\tremaining: 3.42s\n",
      "546:\tlearn: 0.5579908\ttotal: 4.12s\tremaining: 3.41s\n",
      "547:\tlearn: 0.5575590\ttotal: 4.12s\tremaining: 3.4s\n",
      "548:\tlearn: 0.5571308\ttotal: 4.13s\tremaining: 3.39s\n",
      "549:\tlearn: 0.5567160\ttotal: 4.14s\tremaining: 3.38s\n",
      "550:\tlearn: 0.5564024\ttotal: 4.14s\tremaining: 3.38s\n",
      "551:\tlearn: 0.5557107\ttotal: 4.15s\tremaining: 3.37s\n",
      "552:\tlearn: 0.5551902\ttotal: 4.16s\tremaining: 3.36s\n",
      "553:\tlearn: 0.5547637\ttotal: 4.17s\tremaining: 3.35s\n",
      "554:\tlearn: 0.5539300\ttotal: 4.17s\tremaining: 3.35s\n",
      "555:\tlearn: 0.5536158\ttotal: 4.19s\tremaining: 3.34s\n",
      "556:\tlearn: 0.5532306\ttotal: 4.2s\tremaining: 3.34s\n",
      "557:\tlearn: 0.5526739\ttotal: 4.21s\tremaining: 3.33s\n",
      "558:\tlearn: 0.5522170\ttotal: 4.22s\tremaining: 3.33s\n",
      "559:\tlearn: 0.5518889\ttotal: 4.23s\tremaining: 3.32s\n",
      "560:\tlearn: 0.5512182\ttotal: 4.24s\tremaining: 3.31s\n",
      "561:\tlearn: 0.5508170\ttotal: 4.25s\tremaining: 3.31s\n",
      "562:\tlearn: 0.5502447\ttotal: 4.25s\tremaining: 3.3s\n",
      "563:\tlearn: 0.5497633\ttotal: 4.26s\tremaining: 3.3s\n",
      "564:\tlearn: 0.5491412\ttotal: 4.28s\tremaining: 3.29s\n",
      "565:\tlearn: 0.5487794\ttotal: 4.29s\tremaining: 3.29s\n",
      "566:\tlearn: 0.5483880\ttotal: 4.3s\tremaining: 3.28s\n",
      "567:\tlearn: 0.5477996\ttotal: 4.31s\tremaining: 3.27s\n",
      "568:\tlearn: 0.5472126\ttotal: 4.32s\tremaining: 3.27s\n",
      "569:\tlearn: 0.5468512\ttotal: 4.33s\tremaining: 3.26s\n",
      "570:\tlearn: 0.5465309\ttotal: 4.34s\tremaining: 3.26s\n",
      "571:\tlearn: 0.5461714\ttotal: 4.34s\tremaining: 3.25s\n",
      "572:\tlearn: 0.5457312\ttotal: 4.35s\tremaining: 3.24s\n",
      "573:\tlearn: 0.5454705\ttotal: 4.36s\tremaining: 3.24s\n",
      "574:\tlearn: 0.5449188\ttotal: 4.37s\tremaining: 3.23s\n",
      "575:\tlearn: 0.5444597\ttotal: 4.38s\tremaining: 3.22s\n",
      "576:\tlearn: 0.5440574\ttotal: 4.39s\tremaining: 3.22s\n",
      "577:\tlearn: 0.5435277\ttotal: 4.4s\tremaining: 3.21s\n",
      "578:\tlearn: 0.5429799\ttotal: 4.41s\tremaining: 3.2s\n",
      "579:\tlearn: 0.5425190\ttotal: 4.42s\tremaining: 3.2s\n",
      "580:\tlearn: 0.5421718\ttotal: 4.43s\tremaining: 3.19s\n",
      "581:\tlearn: 0.5418020\ttotal: 4.43s\tremaining: 3.19s\n",
      "582:\tlearn: 0.5415045\ttotal: 4.44s\tremaining: 3.18s\n",
      "583:\tlearn: 0.5410001\ttotal: 4.45s\tremaining: 3.17s\n",
      "584:\tlearn: 0.5405499\ttotal: 4.46s\tremaining: 3.17s\n",
      "585:\tlearn: 0.5402714\ttotal: 4.47s\tremaining: 3.16s\n",
      "586:\tlearn: 0.5398379\ttotal: 4.48s\tremaining: 3.15s\n",
      "587:\tlearn: 0.5394764\ttotal: 4.48s\tremaining: 3.14s\n",
      "588:\tlearn: 0.5389514\ttotal: 4.49s\tremaining: 3.13s\n",
      "589:\tlearn: 0.5386574\ttotal: 4.5s\tremaining: 3.13s\n",
      "590:\tlearn: 0.5380597\ttotal: 4.51s\tremaining: 3.12s\n",
      "591:\tlearn: 0.5374926\ttotal: 4.51s\tremaining: 3.11s\n",
      "592:\tlearn: 0.5372699\ttotal: 4.52s\tremaining: 3.1s\n",
      "593:\tlearn: 0.5371002\ttotal: 4.53s\tremaining: 3.1s\n",
      "594:\tlearn: 0.5364595\ttotal: 4.54s\tremaining: 3.09s\n",
      "595:\tlearn: 0.5360662\ttotal: 4.55s\tremaining: 3.08s\n",
      "596:\tlearn: 0.5357715\ttotal: 4.56s\tremaining: 3.08s\n",
      "597:\tlearn: 0.5355581\ttotal: 4.57s\tremaining: 3.07s\n",
      "598:\tlearn: 0.5352715\ttotal: 4.58s\tremaining: 3.06s\n",
      "599:\tlearn: 0.5349690\ttotal: 4.59s\tremaining: 3.06s\n",
      "600:\tlearn: 0.5346075\ttotal: 4.6s\tremaining: 3.05s\n",
      "601:\tlearn: 0.5341855\ttotal: 4.61s\tremaining: 3.04s\n",
      "602:\tlearn: 0.5339571\ttotal: 4.62s\tremaining: 3.04s\n",
      "603:\tlearn: 0.5334496\ttotal: 4.63s\tremaining: 3.03s\n",
      "604:\tlearn: 0.5331205\ttotal: 4.63s\tremaining: 3.03s\n",
      "605:\tlearn: 0.5325768\ttotal: 4.64s\tremaining: 3.02s\n",
      "606:\tlearn: 0.5321880\ttotal: 4.65s\tremaining: 3.01s\n",
      "607:\tlearn: 0.5318901\ttotal: 4.66s\tremaining: 3.01s\n",
      "608:\tlearn: 0.5314592\ttotal: 4.67s\tremaining: 3s\n",
      "609:\tlearn: 0.5313222\ttotal: 4.68s\tremaining: 2.99s\n",
      "610:\tlearn: 0.5310033\ttotal: 4.69s\tremaining: 2.98s\n",
      "611:\tlearn: 0.5303450\ttotal: 4.7s\tremaining: 2.98s\n",
      "612:\tlearn: 0.5299102\ttotal: 4.71s\tremaining: 2.97s\n",
      "613:\tlearn: 0.5295747\ttotal: 4.72s\tremaining: 2.96s\n",
      "614:\tlearn: 0.5290994\ttotal: 4.72s\tremaining: 2.96s\n",
      "615:\tlearn: 0.5284493\ttotal: 4.73s\tremaining: 2.95s\n",
      "616:\tlearn: 0.5281876\ttotal: 4.74s\tremaining: 2.94s\n",
      "617:\tlearn: 0.5278950\ttotal: 4.75s\tremaining: 2.94s\n",
      "618:\tlearn: 0.5274740\ttotal: 4.76s\tremaining: 2.93s\n",
      "619:\tlearn: 0.5271779\ttotal: 4.77s\tremaining: 2.92s\n",
      "620:\tlearn: 0.5268867\ttotal: 4.78s\tremaining: 2.91s\n",
      "621:\tlearn: 0.5265387\ttotal: 4.78s\tremaining: 2.91s\n",
      "622:\tlearn: 0.5262891\ttotal: 4.79s\tremaining: 2.9s\n",
      "623:\tlearn: 0.5259033\ttotal: 4.8s\tremaining: 2.89s\n",
      "624:\tlearn: 0.5256573\ttotal: 4.81s\tremaining: 2.88s\n",
      "625:\tlearn: 0.5253173\ttotal: 4.82s\tremaining: 2.88s\n",
      "626:\tlearn: 0.5249522\ttotal: 4.83s\tremaining: 2.87s\n",
      "627:\tlearn: 0.5246293\ttotal: 4.83s\tremaining: 2.86s\n",
      "628:\tlearn: 0.5243751\ttotal: 4.84s\tremaining: 2.86s\n",
      "629:\tlearn: 0.5239444\ttotal: 4.85s\tremaining: 2.85s\n",
      "630:\tlearn: 0.5234776\ttotal: 4.86s\tremaining: 2.84s\n",
      "631:\tlearn: 0.5231700\ttotal: 4.86s\tremaining: 2.83s\n",
      "632:\tlearn: 0.5226874\ttotal: 4.87s\tremaining: 2.82s\n",
      "633:\tlearn: 0.5223463\ttotal: 4.88s\tremaining: 2.82s\n",
      "634:\tlearn: 0.5221558\ttotal: 4.88s\tremaining: 2.81s\n",
      "635:\tlearn: 0.5218762\ttotal: 4.89s\tremaining: 2.8s\n",
      "636:\tlearn: 0.5213508\ttotal: 4.9s\tremaining: 2.79s\n",
      "637:\tlearn: 0.5211822\ttotal: 4.91s\tremaining: 2.78s\n",
      "638:\tlearn: 0.5207580\ttotal: 4.92s\tremaining: 2.78s\n",
      "639:\tlearn: 0.5202838\ttotal: 4.92s\tremaining: 2.77s\n",
      "640:\tlearn: 0.5200904\ttotal: 4.93s\tremaining: 2.76s\n",
      "641:\tlearn: 0.5196807\ttotal: 4.94s\tremaining: 2.75s\n",
      "642:\tlearn: 0.5193185\ttotal: 4.95s\tremaining: 2.75s\n",
      "643:\tlearn: 0.5190882\ttotal: 4.96s\tremaining: 2.74s\n",
      "644:\tlearn: 0.5185207\ttotal: 4.97s\tremaining: 2.73s\n",
      "645:\tlearn: 0.5182318\ttotal: 4.98s\tremaining: 2.73s\n",
      "646:\tlearn: 0.5179364\ttotal: 4.99s\tremaining: 2.72s\n",
      "647:\tlearn: 0.5177373\ttotal: 5s\tremaining: 2.71s\n",
      "648:\tlearn: 0.5173756\ttotal: 5s\tremaining: 2.71s\n",
      "649:\tlearn: 0.5171048\ttotal: 5.01s\tremaining: 2.7s\n",
      "650:\tlearn: 0.5167238\ttotal: 5.02s\tremaining: 2.69s\n",
      "651:\tlearn: 0.5165588\ttotal: 5.03s\tremaining: 2.68s\n",
      "652:\tlearn: 0.5161809\ttotal: 5.04s\tremaining: 2.68s\n",
      "653:\tlearn: 0.5159129\ttotal: 5.05s\tremaining: 2.67s\n",
      "654:\tlearn: 0.5153294\ttotal: 5.05s\tremaining: 2.66s\n",
      "655:\tlearn: 0.5148525\ttotal: 5.06s\tremaining: 2.65s\n",
      "656:\tlearn: 0.5145041\ttotal: 5.07s\tremaining: 2.65s\n",
      "657:\tlearn: 0.5140340\ttotal: 5.08s\tremaining: 2.64s\n",
      "658:\tlearn: 0.5135293\ttotal: 5.09s\tremaining: 2.63s\n",
      "659:\tlearn: 0.5131729\ttotal: 5.1s\tremaining: 2.63s\n",
      "660:\tlearn: 0.5128547\ttotal: 5.1s\tremaining: 2.62s\n",
      "661:\tlearn: 0.5125114\ttotal: 5.11s\tremaining: 2.61s\n",
      "662:\tlearn: 0.5121941\ttotal: 5.12s\tremaining: 2.6s\n",
      "663:\tlearn: 0.5115618\ttotal: 5.13s\tremaining: 2.6s\n",
      "664:\tlearn: 0.5113822\ttotal: 5.14s\tremaining: 2.59s\n",
      "665:\tlearn: 0.5111243\ttotal: 5.14s\tremaining: 2.58s\n",
      "666:\tlearn: 0.5105350\ttotal: 5.15s\tremaining: 2.57s\n",
      "667:\tlearn: 0.5100204\ttotal: 5.16s\tremaining: 2.56s\n",
      "668:\tlearn: 0.5096580\ttotal: 5.17s\tremaining: 2.56s\n",
      "669:\tlearn: 0.5093146\ttotal: 5.18s\tremaining: 2.55s\n",
      "670:\tlearn: 0.5088776\ttotal: 5.18s\tremaining: 2.54s\n",
      "671:\tlearn: 0.5086052\ttotal: 5.19s\tremaining: 2.53s\n",
      "672:\tlearn: 0.5083249\ttotal: 5.2s\tremaining: 2.53s\n",
      "673:\tlearn: 0.5080262\ttotal: 5.21s\tremaining: 2.52s\n",
      "674:\tlearn: 0.5077894\ttotal: 5.21s\tremaining: 2.51s\n",
      "675:\tlearn: 0.5074202\ttotal: 5.22s\tremaining: 2.5s\n",
      "676:\tlearn: 0.5071409\ttotal: 5.22s\tremaining: 2.49s\n",
      "677:\tlearn: 0.5068472\ttotal: 5.23s\tremaining: 2.48s\n",
      "678:\tlearn: 0.5065202\ttotal: 5.24s\tremaining: 2.48s\n",
      "679:\tlearn: 0.5062543\ttotal: 5.24s\tremaining: 2.47s\n",
      "680:\tlearn: 0.5060137\ttotal: 5.25s\tremaining: 2.46s\n",
      "681:\tlearn: 0.5054876\ttotal: 5.26s\tremaining: 2.45s\n",
      "682:\tlearn: 0.5052795\ttotal: 5.26s\tremaining: 2.44s\n",
      "683:\tlearn: 0.5049275\ttotal: 5.27s\tremaining: 2.43s\n",
      "684:\tlearn: 0.5045433\ttotal: 5.27s\tremaining: 2.42s\n",
      "685:\tlearn: 0.5041909\ttotal: 5.28s\tremaining: 2.42s\n",
      "686:\tlearn: 0.5038385\ttotal: 5.29s\tremaining: 2.41s\n",
      "687:\tlearn: 0.5034124\ttotal: 5.29s\tremaining: 2.4s\n",
      "688:\tlearn: 0.5031331\ttotal: 5.3s\tremaining: 2.39s\n",
      "689:\tlearn: 0.5028487\ttotal: 5.31s\tremaining: 2.38s\n",
      "690:\tlearn: 0.5024536\ttotal: 5.31s\tremaining: 2.38s\n",
      "691:\tlearn: 0.5020344\ttotal: 5.32s\tremaining: 2.37s\n",
      "692:\tlearn: 0.5015879\ttotal: 5.33s\tremaining: 2.36s\n",
      "693:\tlearn: 0.5013383\ttotal: 5.34s\tremaining: 2.35s\n",
      "694:\tlearn: 0.5010534\ttotal: 5.35s\tremaining: 2.35s\n",
      "695:\tlearn: 0.5007378\ttotal: 5.36s\tremaining: 2.34s\n",
      "696:\tlearn: 0.5003795\ttotal: 5.36s\tremaining: 2.33s\n",
      "697:\tlearn: 0.4999317\ttotal: 5.37s\tremaining: 2.32s\n",
      "698:\tlearn: 0.4994761\ttotal: 5.38s\tremaining: 2.32s\n",
      "699:\tlearn: 0.4989425\ttotal: 5.39s\tremaining: 2.31s\n",
      "700:\tlearn: 0.4984381\ttotal: 5.4s\tremaining: 2.3s\n",
      "701:\tlearn: 0.4980163\ttotal: 5.4s\tremaining: 2.29s\n",
      "702:\tlearn: 0.4975949\ttotal: 5.41s\tremaining: 2.29s\n",
      "703:\tlearn: 0.4973463\ttotal: 5.42s\tremaining: 2.28s\n",
      "704:\tlearn: 0.4970103\ttotal: 5.43s\tremaining: 2.27s\n",
      "705:\tlearn: 0.4964290\ttotal: 5.44s\tremaining: 2.27s\n",
      "706:\tlearn: 0.4961119\ttotal: 5.45s\tremaining: 2.26s\n",
      "707:\tlearn: 0.4958168\ttotal: 5.46s\tremaining: 2.25s\n",
      "708:\tlearn: 0.4953706\ttotal: 5.46s\tremaining: 2.24s\n",
      "709:\tlearn: 0.4950436\ttotal: 5.49s\tremaining: 2.24s\n",
      "710:\tlearn: 0.4946691\ttotal: 5.5s\tremaining: 2.23s\n",
      "711:\tlearn: 0.4942160\ttotal: 5.5s\tremaining: 2.23s\n",
      "712:\tlearn: 0.4938101\ttotal: 5.51s\tremaining: 2.22s\n",
      "713:\tlearn: 0.4935842\ttotal: 5.52s\tremaining: 2.21s\n",
      "714:\tlearn: 0.4929659\ttotal: 5.54s\tremaining: 2.21s\n",
      "715:\tlearn: 0.4925172\ttotal: 5.54s\tremaining: 2.2s\n",
      "716:\tlearn: 0.4922116\ttotal: 5.55s\tremaining: 2.19s\n",
      "717:\tlearn: 0.4920459\ttotal: 5.56s\tremaining: 2.19s\n",
      "718:\tlearn: 0.4916143\ttotal: 5.57s\tremaining: 2.18s\n",
      "719:\tlearn: 0.4913386\ttotal: 5.58s\tremaining: 2.17s\n",
      "720:\tlearn: 0.4909854\ttotal: 5.59s\tremaining: 2.16s\n",
      "721:\tlearn: 0.4907278\ttotal: 5.6s\tremaining: 2.16s\n",
      "722:\tlearn: 0.4902643\ttotal: 5.61s\tremaining: 2.15s\n",
      "723:\tlearn: 0.4898541\ttotal: 5.62s\tremaining: 2.14s\n",
      "724:\tlearn: 0.4896130\ttotal: 5.63s\tremaining: 2.13s\n",
      "725:\tlearn: 0.4894634\ttotal: 5.63s\tremaining: 2.13s\n",
      "726:\tlearn: 0.4890984\ttotal: 5.64s\tremaining: 2.12s\n",
      "727:\tlearn: 0.4888438\ttotal: 5.65s\tremaining: 2.11s\n",
      "728:\tlearn: 0.4883845\ttotal: 5.66s\tremaining: 2.1s\n",
      "729:\tlearn: 0.4880935\ttotal: 5.66s\tremaining: 2.1s\n",
      "730:\tlearn: 0.4878891\ttotal: 5.67s\tremaining: 2.09s\n",
      "731:\tlearn: 0.4877106\ttotal: 5.68s\tremaining: 2.08s\n",
      "732:\tlearn: 0.4869811\ttotal: 5.68s\tremaining: 2.07s\n",
      "733:\tlearn: 0.4866367\ttotal: 5.69s\tremaining: 2.06s\n",
      "734:\tlearn: 0.4863795\ttotal: 5.7s\tremaining: 2.05s\n",
      "735:\tlearn: 0.4859085\ttotal: 5.7s\tremaining: 2.05s\n",
      "736:\tlearn: 0.4856691\ttotal: 5.71s\tremaining: 2.04s\n",
      "737:\tlearn: 0.4852904\ttotal: 5.72s\tremaining: 2.03s\n",
      "738:\tlearn: 0.4848814\ttotal: 5.73s\tremaining: 2.02s\n",
      "739:\tlearn: 0.4845638\ttotal: 5.74s\tremaining: 2.02s\n",
      "740:\tlearn: 0.4843090\ttotal: 5.75s\tremaining: 2.01s\n",
      "741:\tlearn: 0.4839747\ttotal: 5.75s\tremaining: 2s\n",
      "742:\tlearn: 0.4834406\ttotal: 5.76s\tremaining: 1.99s\n",
      "743:\tlearn: 0.4833230\ttotal: 5.77s\tremaining: 1.99s\n",
      "744:\tlearn: 0.4827844\ttotal: 5.78s\tremaining: 1.98s\n",
      "745:\tlearn: 0.4825452\ttotal: 5.79s\tremaining: 1.97s\n",
      "746:\tlearn: 0.4822769\ttotal: 5.8s\tremaining: 1.96s\n",
      "747:\tlearn: 0.4820201\ttotal: 5.8s\tremaining: 1.96s\n",
      "748:\tlearn: 0.4815095\ttotal: 5.81s\tremaining: 1.95s\n",
      "749:\tlearn: 0.4813402\ttotal: 5.82s\tremaining: 1.94s\n",
      "750:\tlearn: 0.4811447\ttotal: 5.83s\tremaining: 1.93s\n",
      "751:\tlearn: 0.4809333\ttotal: 5.84s\tremaining: 1.93s\n",
      "752:\tlearn: 0.4805500\ttotal: 5.85s\tremaining: 1.92s\n",
      "753:\tlearn: 0.4804404\ttotal: 5.86s\tremaining: 1.91s\n",
      "754:\tlearn: 0.4802087\ttotal: 5.87s\tremaining: 1.9s\n",
      "755:\tlearn: 0.4800584\ttotal: 5.87s\tremaining: 1.9s\n",
      "756:\tlearn: 0.4798246\ttotal: 5.88s\tremaining: 1.89s\n",
      "757:\tlearn: 0.4796128\ttotal: 5.89s\tremaining: 1.88s\n",
      "758:\tlearn: 0.4792860\ttotal: 5.9s\tremaining: 1.87s\n",
      "759:\tlearn: 0.4790343\ttotal: 5.91s\tremaining: 1.87s\n",
      "760:\tlearn: 0.4787531\ttotal: 5.92s\tremaining: 1.86s\n",
      "761:\tlearn: 0.4783024\ttotal: 5.93s\tremaining: 1.85s\n",
      "762:\tlearn: 0.4779608\ttotal: 5.94s\tremaining: 1.84s\n",
      "763:\tlearn: 0.4777078\ttotal: 5.94s\tremaining: 1.84s\n",
      "764:\tlearn: 0.4773843\ttotal: 5.95s\tremaining: 1.83s\n",
      "765:\tlearn: 0.4771028\ttotal: 5.96s\tremaining: 1.82s\n",
      "766:\tlearn: 0.4767715\ttotal: 5.97s\tremaining: 1.81s\n",
      "767:\tlearn: 0.4763563\ttotal: 5.97s\tremaining: 1.8s\n",
      "768:\tlearn: 0.4757623\ttotal: 5.98s\tremaining: 1.8s\n",
      "769:\tlearn: 0.4754250\ttotal: 5.99s\tremaining: 1.79s\n",
      "770:\tlearn: 0.4747949\ttotal: 6s\tremaining: 1.78s\n",
      "771:\tlearn: 0.4745095\ttotal: 6.01s\tremaining: 1.77s\n",
      "772:\tlearn: 0.4740670\ttotal: 6.02s\tremaining: 1.77s\n",
      "773:\tlearn: 0.4738492\ttotal: 6.03s\tremaining: 1.76s\n",
      "774:\tlearn: 0.4735725\ttotal: 6.03s\tremaining: 1.75s\n",
      "775:\tlearn: 0.4732579\ttotal: 6.04s\tremaining: 1.74s\n",
      "776:\tlearn: 0.4729515\ttotal: 6.05s\tremaining: 1.74s\n",
      "777:\tlearn: 0.4726116\ttotal: 6.06s\tremaining: 1.73s\n",
      "778:\tlearn: 0.4722818\ttotal: 6.09s\tremaining: 1.73s\n",
      "779:\tlearn: 0.4721443\ttotal: 6.1s\tremaining: 1.72s\n",
      "780:\tlearn: 0.4719046\ttotal: 6.11s\tremaining: 1.71s\n",
      "781:\tlearn: 0.4716611\ttotal: 6.12s\tremaining: 1.7s\n",
      "782:\tlearn: 0.4714091\ttotal: 6.12s\tremaining: 1.7s\n",
      "783:\tlearn: 0.4711612\ttotal: 6.13s\tremaining: 1.69s\n",
      "784:\tlearn: 0.4706774\ttotal: 6.14s\tremaining: 1.68s\n",
      "785:\tlearn: 0.4703620\ttotal: 6.15s\tremaining: 1.67s\n",
      "786:\tlearn: 0.4701014\ttotal: 6.16s\tremaining: 1.67s\n",
      "787:\tlearn: 0.4698225\ttotal: 6.16s\tremaining: 1.66s\n",
      "788:\tlearn: 0.4694697\ttotal: 6.17s\tremaining: 1.65s\n",
      "789:\tlearn: 0.4692261\ttotal: 6.18s\tremaining: 1.64s\n",
      "790:\tlearn: 0.4689648\ttotal: 6.19s\tremaining: 1.64s\n",
      "791:\tlearn: 0.4687059\ttotal: 6.2s\tremaining: 1.63s\n",
      "792:\tlearn: 0.4681674\ttotal: 6.21s\tremaining: 1.62s\n",
      "793:\tlearn: 0.4678654\ttotal: 6.21s\tremaining: 1.61s\n",
      "794:\tlearn: 0.4674336\ttotal: 6.22s\tremaining: 1.6s\n",
      "795:\tlearn: 0.4672227\ttotal: 6.23s\tremaining: 1.6s\n",
      "796:\tlearn: 0.4668277\ttotal: 6.24s\tremaining: 1.59s\n",
      "797:\tlearn: 0.4665674\ttotal: 6.24s\tremaining: 1.58s\n",
      "798:\tlearn: 0.4663722\ttotal: 6.25s\tremaining: 1.57s\n",
      "799:\tlearn: 0.4660520\ttotal: 6.26s\tremaining: 1.56s\n",
      "800:\tlearn: 0.4657603\ttotal: 6.27s\tremaining: 1.56s\n",
      "801:\tlearn: 0.4654415\ttotal: 6.28s\tremaining: 1.55s\n",
      "802:\tlearn: 0.4651411\ttotal: 6.28s\tremaining: 1.54s\n",
      "803:\tlearn: 0.4645207\ttotal: 6.29s\tremaining: 1.53s\n",
      "804:\tlearn: 0.4643092\ttotal: 6.3s\tremaining: 1.53s\n",
      "805:\tlearn: 0.4637224\ttotal: 6.31s\tremaining: 1.52s\n",
      "806:\tlearn: 0.4634442\ttotal: 6.32s\tremaining: 1.51s\n",
      "807:\tlearn: 0.4629511\ttotal: 6.32s\tremaining: 1.5s\n",
      "808:\tlearn: 0.4626533\ttotal: 6.33s\tremaining: 1.5s\n",
      "809:\tlearn: 0.4622610\ttotal: 6.34s\tremaining: 1.49s\n",
      "810:\tlearn: 0.4619251\ttotal: 6.35s\tremaining: 1.48s\n",
      "811:\tlearn: 0.4617493\ttotal: 6.36s\tremaining: 1.47s\n",
      "812:\tlearn: 0.4614588\ttotal: 6.37s\tremaining: 1.47s\n",
      "813:\tlearn: 0.4612438\ttotal: 6.38s\tremaining: 1.46s\n",
      "814:\tlearn: 0.4609499\ttotal: 6.39s\tremaining: 1.45s\n",
      "815:\tlearn: 0.4607199\ttotal: 6.39s\tremaining: 1.44s\n",
      "816:\tlearn: 0.4604015\ttotal: 6.41s\tremaining: 1.43s\n",
      "817:\tlearn: 0.4602195\ttotal: 6.41s\tremaining: 1.43s\n",
      "818:\tlearn: 0.4598072\ttotal: 6.42s\tremaining: 1.42s\n",
      "819:\tlearn: 0.4594638\ttotal: 6.43s\tremaining: 1.41s\n",
      "820:\tlearn: 0.4591279\ttotal: 6.44s\tremaining: 1.4s\n",
      "821:\tlearn: 0.4589068\ttotal: 6.44s\tremaining: 1.4s\n",
      "822:\tlearn: 0.4582967\ttotal: 6.45s\tremaining: 1.39s\n",
      "823:\tlearn: 0.4581110\ttotal: 6.46s\tremaining: 1.38s\n",
      "824:\tlearn: 0.4578811\ttotal: 6.47s\tremaining: 1.37s\n",
      "825:\tlearn: 0.4576607\ttotal: 6.48s\tremaining: 1.36s\n",
      "826:\tlearn: 0.4574038\ttotal: 6.49s\tremaining: 1.36s\n",
      "827:\tlearn: 0.4571986\ttotal: 6.5s\tremaining: 1.35s\n",
      "828:\tlearn: 0.4567405\ttotal: 6.51s\tremaining: 1.34s\n",
      "829:\tlearn: 0.4560768\ttotal: 6.52s\tremaining: 1.33s\n",
      "830:\tlearn: 0.4557288\ttotal: 6.53s\tremaining: 1.33s\n",
      "831:\tlearn: 0.4554605\ttotal: 6.54s\tremaining: 1.32s\n",
      "832:\tlearn: 0.4552545\ttotal: 6.55s\tremaining: 1.31s\n",
      "833:\tlearn: 0.4551130\ttotal: 6.56s\tremaining: 1.3s\n",
      "834:\tlearn: 0.4549998\ttotal: 6.57s\tremaining: 1.3s\n",
      "835:\tlearn: 0.4545905\ttotal: 6.58s\tremaining: 1.29s\n",
      "836:\tlearn: 0.4542976\ttotal: 6.59s\tremaining: 1.28s\n",
      "837:\tlearn: 0.4538567\ttotal: 6.59s\tremaining: 1.27s\n",
      "838:\tlearn: 0.4535440\ttotal: 6.6s\tremaining: 1.27s\n",
      "839:\tlearn: 0.4533500\ttotal: 6.61s\tremaining: 1.26s\n",
      "840:\tlearn: 0.4532316\ttotal: 6.62s\tremaining: 1.25s\n",
      "841:\tlearn: 0.4530068\ttotal: 6.63s\tremaining: 1.24s\n",
      "842:\tlearn: 0.4526506\ttotal: 6.64s\tremaining: 1.24s\n",
      "843:\tlearn: 0.4524130\ttotal: 6.65s\tremaining: 1.23s\n",
      "844:\tlearn: 0.4522308\ttotal: 6.66s\tremaining: 1.22s\n",
      "845:\tlearn: 0.4517671\ttotal: 6.66s\tremaining: 1.21s\n",
      "846:\tlearn: 0.4516335\ttotal: 6.67s\tremaining: 1.21s\n",
      "847:\tlearn: 0.4513265\ttotal: 6.68s\tremaining: 1.2s\n",
      "848:\tlearn: 0.4510841\ttotal: 6.69s\tremaining: 1.19s\n",
      "849:\tlearn: 0.4508188\ttotal: 6.7s\tremaining: 1.18s\n",
      "850:\tlearn: 0.4502988\ttotal: 6.71s\tremaining: 1.17s\n",
      "851:\tlearn: 0.4499156\ttotal: 6.71s\tremaining: 1.17s\n",
      "852:\tlearn: 0.4497399\ttotal: 6.72s\tremaining: 1.16s\n",
      "853:\tlearn: 0.4494818\ttotal: 6.72s\tremaining: 1.15s\n",
      "854:\tlearn: 0.4493644\ttotal: 6.73s\tremaining: 1.14s\n",
      "855:\tlearn: 0.4491272\ttotal: 6.74s\tremaining: 1.13s\n",
      "856:\tlearn: 0.4487731\ttotal: 6.75s\tremaining: 1.13s\n",
      "857:\tlearn: 0.4483293\ttotal: 6.76s\tremaining: 1.12s\n",
      "858:\tlearn: 0.4479665\ttotal: 6.77s\tremaining: 1.11s\n",
      "859:\tlearn: 0.4477288\ttotal: 6.78s\tremaining: 1.1s\n",
      "860:\tlearn: 0.4475288\ttotal: 6.79s\tremaining: 1.09s\n",
      "861:\tlearn: 0.4472687\ttotal: 6.79s\tremaining: 1.09s\n",
      "862:\tlearn: 0.4470388\ttotal: 6.8s\tremaining: 1.08s\n",
      "863:\tlearn: 0.4468857\ttotal: 6.81s\tremaining: 1.07s\n",
      "864:\tlearn: 0.4465394\ttotal: 6.82s\tremaining: 1.06s\n",
      "865:\tlearn: 0.4462667\ttotal: 6.83s\tremaining: 1.06s\n",
      "866:\tlearn: 0.4460422\ttotal: 6.84s\tremaining: 1.05s\n",
      "867:\tlearn: 0.4458038\ttotal: 6.84s\tremaining: 1.04s\n",
      "868:\tlearn: 0.4456173\ttotal: 6.86s\tremaining: 1.03s\n",
      "869:\tlearn: 0.4454316\ttotal: 6.86s\tremaining: 1.02s\n",
      "870:\tlearn: 0.4452151\ttotal: 6.87s\tremaining: 1.02s\n",
      "871:\tlearn: 0.4450732\ttotal: 6.88s\tremaining: 1.01s\n",
      "872:\tlearn: 0.4447999\ttotal: 6.89s\tremaining: 1s\n",
      "873:\tlearn: 0.4446884\ttotal: 6.9s\tremaining: 995ms\n",
      "874:\tlearn: 0.4445292\ttotal: 6.91s\tremaining: 987ms\n",
      "875:\tlearn: 0.4444265\ttotal: 6.92s\tremaining: 979ms\n",
      "876:\tlearn: 0.4440408\ttotal: 6.92s\tremaining: 971ms\n",
      "877:\tlearn: 0.4439165\ttotal: 6.93s\tremaining: 963ms\n",
      "878:\tlearn: 0.4436133\ttotal: 6.94s\tremaining: 955ms\n",
      "879:\tlearn: 0.4432238\ttotal: 6.95s\tremaining: 947ms\n",
      "880:\tlearn: 0.4429163\ttotal: 6.95s\tremaining: 939ms\n",
      "881:\tlearn: 0.4427386\ttotal: 6.96s\tremaining: 931ms\n",
      "882:\tlearn: 0.4424389\ttotal: 6.96s\tremaining: 923ms\n",
      "883:\tlearn: 0.4422641\ttotal: 6.97s\tremaining: 915ms\n",
      "884:\tlearn: 0.4420473\ttotal: 6.98s\tremaining: 907ms\n",
      "885:\tlearn: 0.4418962\ttotal: 6.98s\tremaining: 899ms\n",
      "886:\tlearn: 0.4417481\ttotal: 6.99s\tremaining: 891ms\n",
      "887:\tlearn: 0.4414658\ttotal: 7s\tremaining: 883ms\n",
      "888:\tlearn: 0.4410905\ttotal: 7s\tremaining: 875ms\n",
      "889:\tlearn: 0.4409132\ttotal: 7.01s\tremaining: 867ms\n",
      "890:\tlearn: 0.4404858\ttotal: 7.02s\tremaining: 859ms\n",
      "891:\tlearn: 0.4402967\ttotal: 7.02s\tremaining: 850ms\n",
      "892:\tlearn: 0.4400583\ttotal: 7.03s\tremaining: 842ms\n",
      "893:\tlearn: 0.4397251\ttotal: 7.04s\tremaining: 834ms\n",
      "894:\tlearn: 0.4393354\ttotal: 7.04s\tremaining: 826ms\n",
      "895:\tlearn: 0.4390253\ttotal: 7.05s\tremaining: 818ms\n",
      "896:\tlearn: 0.4385133\ttotal: 7.05s\tremaining: 810ms\n",
      "897:\tlearn: 0.4383043\ttotal: 7.06s\tremaining: 802ms\n",
      "898:\tlearn: 0.4379649\ttotal: 7.07s\tremaining: 794ms\n",
      "899:\tlearn: 0.4376365\ttotal: 7.07s\tremaining: 786ms\n",
      "900:\tlearn: 0.4373573\ttotal: 7.08s\tremaining: 778ms\n",
      "901:\tlearn: 0.4372238\ttotal: 7.08s\tremaining: 770ms\n",
      "902:\tlearn: 0.4370404\ttotal: 7.09s\tremaining: 762ms\n",
      "903:\tlearn: 0.4366694\ttotal: 7.1s\tremaining: 754ms\n",
      "904:\tlearn: 0.4362588\ttotal: 7.1s\tremaining: 746ms\n",
      "905:\tlearn: 0.4360794\ttotal: 7.11s\tremaining: 738ms\n",
      "906:\tlearn: 0.4357408\ttotal: 7.12s\tremaining: 730ms\n",
      "907:\tlearn: 0.4355800\ttotal: 7.12s\tremaining: 722ms\n",
      "908:\tlearn: 0.4353052\ttotal: 7.13s\tremaining: 714ms\n",
      "909:\tlearn: 0.4350408\ttotal: 7.13s\tremaining: 706ms\n",
      "910:\tlearn: 0.4348857\ttotal: 7.14s\tremaining: 697ms\n",
      "911:\tlearn: 0.4347180\ttotal: 7.14s\tremaining: 689ms\n",
      "912:\tlearn: 0.4343625\ttotal: 7.15s\tremaining: 681ms\n",
      "913:\tlearn: 0.4341900\ttotal: 7.16s\tremaining: 674ms\n",
      "914:\tlearn: 0.4339733\ttotal: 7.17s\tremaining: 666ms\n",
      "915:\tlearn: 0.4338178\ttotal: 7.17s\tremaining: 658ms\n",
      "916:\tlearn: 0.4334079\ttotal: 7.18s\tremaining: 650ms\n",
      "917:\tlearn: 0.4331698\ttotal: 7.19s\tremaining: 643ms\n",
      "918:\tlearn: 0.4327121\ttotal: 7.2s\tremaining: 635ms\n",
      "919:\tlearn: 0.4324326\ttotal: 7.21s\tremaining: 627ms\n",
      "920:\tlearn: 0.4323069\ttotal: 7.22s\tremaining: 619ms\n",
      "921:\tlearn: 0.4320001\ttotal: 7.23s\tremaining: 612ms\n",
      "922:\tlearn: 0.4317064\ttotal: 7.24s\tremaining: 604ms\n",
      "923:\tlearn: 0.4313697\ttotal: 7.24s\tremaining: 596ms\n",
      "924:\tlearn: 0.4309991\ttotal: 7.25s\tremaining: 588ms\n",
      "925:\tlearn: 0.4307173\ttotal: 7.26s\tremaining: 580ms\n",
      "926:\tlearn: 0.4304792\ttotal: 7.27s\tremaining: 572ms\n",
      "927:\tlearn: 0.4301806\ttotal: 7.28s\tremaining: 565ms\n",
      "928:\tlearn: 0.4299472\ttotal: 7.28s\tremaining: 557ms\n",
      "929:\tlearn: 0.4296983\ttotal: 7.29s\tremaining: 549ms\n",
      "930:\tlearn: 0.4293782\ttotal: 7.3s\tremaining: 541ms\n",
      "931:\tlearn: 0.4289481\ttotal: 7.31s\tremaining: 533ms\n",
      "932:\tlearn: 0.4286814\ttotal: 7.33s\tremaining: 527ms\n",
      "933:\tlearn: 0.4284370\ttotal: 7.34s\tremaining: 519ms\n",
      "934:\tlearn: 0.4282633\ttotal: 7.35s\tremaining: 511ms\n",
      "935:\tlearn: 0.4281127\ttotal: 7.36s\tremaining: 503ms\n",
      "936:\tlearn: 0.4278798\ttotal: 7.36s\tremaining: 495ms\n",
      "937:\tlearn: 0.4277175\ttotal: 7.37s\tremaining: 487ms\n",
      "938:\tlearn: 0.4273533\ttotal: 7.38s\tremaining: 479ms\n",
      "939:\tlearn: 0.4271783\ttotal: 7.39s\tremaining: 472ms\n",
      "940:\tlearn: 0.4269296\ttotal: 7.4s\tremaining: 464ms\n",
      "941:\tlearn: 0.4267174\ttotal: 7.4s\tremaining: 456ms\n",
      "942:\tlearn: 0.4264421\ttotal: 7.41s\tremaining: 448ms\n",
      "943:\tlearn: 0.4261598\ttotal: 7.42s\tremaining: 440ms\n",
      "944:\tlearn: 0.4259849\ttotal: 7.44s\tremaining: 433ms\n",
      "945:\tlearn: 0.4256648\ttotal: 7.46s\tremaining: 426ms\n",
      "946:\tlearn: 0.4251466\ttotal: 7.47s\tremaining: 418ms\n",
      "947:\tlearn: 0.4249709\ttotal: 7.48s\tremaining: 410ms\n",
      "948:\tlearn: 0.4248111\ttotal: 7.49s\tremaining: 402ms\n",
      "949:\tlearn: 0.4246684\ttotal: 7.5s\tremaining: 395ms\n",
      "950:\tlearn: 0.4245464\ttotal: 7.51s\tremaining: 387ms\n",
      "951:\tlearn: 0.4244266\ttotal: 7.51s\tremaining: 379ms\n",
      "952:\tlearn: 0.4241838\ttotal: 7.52s\tremaining: 371ms\n",
      "953:\tlearn: 0.4239074\ttotal: 7.53s\tremaining: 363ms\n",
      "954:\tlearn: 0.4237782\ttotal: 7.54s\tremaining: 355ms\n",
      "955:\tlearn: 0.4234764\ttotal: 7.54s\tremaining: 347ms\n",
      "956:\tlearn: 0.4233037\ttotal: 7.55s\tremaining: 339ms\n",
      "957:\tlearn: 0.4230131\ttotal: 7.55s\tremaining: 331ms\n",
      "958:\tlearn: 0.4228364\ttotal: 7.56s\tremaining: 323ms\n",
      "959:\tlearn: 0.4224299\ttotal: 7.57s\tremaining: 315ms\n",
      "960:\tlearn: 0.4219277\ttotal: 7.58s\tremaining: 308ms\n",
      "961:\tlearn: 0.4217035\ttotal: 7.59s\tremaining: 300ms\n",
      "962:\tlearn: 0.4214960\ttotal: 7.6s\tremaining: 292ms\n",
      "963:\tlearn: 0.4211697\ttotal: 7.6s\tremaining: 284ms\n",
      "964:\tlearn: 0.4210601\ttotal: 7.61s\tremaining: 276ms\n",
      "965:\tlearn: 0.4207538\ttotal: 7.62s\tremaining: 268ms\n",
      "966:\tlearn: 0.4205184\ttotal: 7.63s\tremaining: 260ms\n",
      "967:\tlearn: 0.4202440\ttotal: 7.64s\tremaining: 252ms\n",
      "968:\tlearn: 0.4199797\ttotal: 7.64s\tremaining: 245ms\n",
      "969:\tlearn: 0.4197276\ttotal: 7.65s\tremaining: 237ms\n",
      "970:\tlearn: 0.4195949\ttotal: 7.66s\tremaining: 229ms\n",
      "971:\tlearn: 0.4194502\ttotal: 7.67s\tremaining: 221ms\n",
      "972:\tlearn: 0.4191466\ttotal: 7.67s\tremaining: 213ms\n",
      "973:\tlearn: 0.4188308\ttotal: 7.68s\tremaining: 205ms\n",
      "974:\tlearn: 0.4187035\ttotal: 7.69s\tremaining: 197ms\n",
      "975:\tlearn: 0.4185034\ttotal: 7.7s\tremaining: 189ms\n",
      "976:\tlearn: 0.4183642\ttotal: 7.7s\tremaining: 181ms\n",
      "977:\tlearn: 0.4180649\ttotal: 7.71s\tremaining: 173ms\n",
      "978:\tlearn: 0.4178332\ttotal: 7.71s\tremaining: 165ms\n",
      "979:\tlearn: 0.4175380\ttotal: 7.72s\tremaining: 158ms\n",
      "980:\tlearn: 0.4173649\ttotal: 7.72s\tremaining: 150ms\n",
      "981:\tlearn: 0.4171637\ttotal: 7.73s\tremaining: 142ms\n",
      "982:\tlearn: 0.4168748\ttotal: 7.74s\tremaining: 134ms\n",
      "983:\tlearn: 0.4166524\ttotal: 7.74s\tremaining: 126ms\n",
      "984:\tlearn: 0.4164758\ttotal: 7.75s\tremaining: 118ms\n",
      "985:\tlearn: 0.4162399\ttotal: 7.75s\tremaining: 110ms\n",
      "986:\tlearn: 0.4160483\ttotal: 7.76s\tremaining: 102ms\n",
      "987:\tlearn: 0.4155058\ttotal: 7.77s\tremaining: 94.3ms\n",
      "988:\tlearn: 0.4152411\ttotal: 7.77s\tremaining: 86.5ms\n",
      "989:\tlearn: 0.4150342\ttotal: 7.78s\tremaining: 78.6ms\n",
      "990:\tlearn: 0.4147534\ttotal: 7.79s\tremaining: 70.7ms\n",
      "991:\tlearn: 0.4145491\ttotal: 7.79s\tremaining: 62.9ms\n",
      "992:\tlearn: 0.4141616\ttotal: 7.8s\tremaining: 55ms\n",
      "993:\tlearn: 0.4140364\ttotal: 7.81s\tremaining: 47.1ms\n",
      "994:\tlearn: 0.4138715\ttotal: 7.81s\tremaining: 39.3ms\n",
      "995:\tlearn: 0.4137482\ttotal: 7.82s\tremaining: 31.4ms\n",
      "996:\tlearn: 0.4135015\ttotal: 7.83s\tremaining: 23.6ms\n",
      "997:\tlearn: 0.4132419\ttotal: 7.83s\tremaining: 15.7ms\n",
      "998:\tlearn: 0.4130238\ttotal: 7.84s\tremaining: 7.85ms\n",
      "999:\tlearn: 0.4128574\ttotal: 7.85s\tremaining: 0us\n"
     ]
    },
    {
     "name": "stderr",
     "output_type": "stream",
     "text": [
      "c:\\Users\\nemet\\anaconda3\\lib\\site-packages\\sklearn\\metrics\\_classification.py:1327: UndefinedMetricWarning: Recall is ill-defined and being set to 0.0 in labels with no true samples. Use `zero_division` parameter to control this behavior.\n",
      "  _warn_prf(average, modifier, msg_start, len(result))\n"
     ]
    }
   ],
   "source": [
    "estimators = [RandomForestClassifier(),CatBoostClassifier(),XGBClassifier(),KNeighborsClassifier(),LogisticRegression()]\n",
    "acc_scores = []\n",
    "prec_scores = []\n",
    "f1_scores = []\n",
    "recall_scores = []\n",
    "for clf in estimators:\n",
    "    scores = predict_scores(clf,np.array(X_train),y_train,np.array(X_test),y_test)\n",
    "    acc_scores.append(scores[\"accuracy\"])\n",
    "    prec_scores.append(scores[\"precision\"])\n",
    "    f1_scores.append(scores[\"f1\"])\n",
    "    recall_scores.append(scores[\"recall\"])\n",
    "    "
   ]
  },
  {
   "cell_type": "code",
   "execution_count": 85,
   "metadata": {},
   "outputs": [
    {
     "data": {
      "image/png": "[encoded data removed]",
      "text/plain": [
       "<Figure size 640x480 with 1 Axes>"
      ]
     },
     "metadata": {},
     "output_type": "display_data"
    }
   ],
   "source": [
    "fig = plt.figure()\n",
    "\n",
    "barWidth = 0.2\n",
    "br1 = np.arange(len(acc_scores))\n",
    "br2 = [x + barWidth for x in br1]\n",
    "br3 = [x + barWidth for x in br2]\n",
    "br4 = [x + barWidth for x in br3]\n",
    "\n",
    "\n",
    "\n",
    "plt.bar(br1,acc_scores,width=barWidth,label=\"Accuracy\")\n",
    "plt.bar(br2,prec_scores,width=barWidth,label=\"Precision\")\n",
    "plt.bar(br3,f1_scores,width=barWidth,label=\"F1 Score\")\n",
    "plt.bar(br4,recall_scores,width=barWidth,label=\"Recall\")\n",
    "plt.xticks([r + barWidth for r in range(len(acc_scores))],\n",
    "        [\"RF\",\"CatBoost\",\"XGBoost\",\"KNN\",\"LogReg\"],rotation=20)\n",
    "plt.ylim(0,1)\n",
    "plt.legend()\n",
    "plt.show()"
   ]
  }
 ],
 "metadata": {
  "kernelspec": {
   "display_name": "base",
   "language": "python",
   "name": "python3"
  },
  "language_info": {
   "codemirror_mode": {
    "name": "ipython",
    "version": 3
   },
   "file_extension": ".py",
   "mimetype": "text/x-python",
   "name": "python",
   "nbconvert_exporter": "python",
   "pygments_lexer": "ipython3",
   "version": "3.9.13"
  },
  "orig_nbformat": 4,
  "vscode": {
   "interpreter": {
    "hash": "605e616c404bc2856ab367308b2bb812f81f8f4d1e902ec953b7bc9f683a5d50"
   }
  }
 },
 "nbformat": 4,
 "nbformat_minor": 2
}
