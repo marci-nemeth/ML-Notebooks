{
 "cells": [
  {
   "attachments": {},
   "cell_type": "markdown",
   "metadata": {},
   "source": [
    "# Financial News Sentiment Analysis\n",
    "\n",
    "### Description\n",
    "\n",
    "This classification task is based on the Kaggle dataset: <a href=https://www.kaggle.com/datasets/sbhatti/financial-sentiment-analysis >Financial Sentiment Analysis</a>. The dataset is under public domain license (v10.0).\n",
    "\n",
    "---\n",
    "### Table of contents\n",
    "\n",
    "1. [Dataset](#dataset)\n",
    "2. [Data preparation](#preparation)\n",
    "3. [Classification](#classification)\n",
    "   1. [Simple Conv](#)\n",
    "   2. [LSTM](#)\n",
    "   3. [GRU](#)\n",
    "   4. [Bidirectional](#)\n",
    "   5. [Conv1d](#)\n",
    "   6. [FinBERT](#finbert)\n",
    "4. [Model Comparison](#comparison)"
   ]
  },
  {
   "attachments": {},
   "cell_type": "markdown",
   "metadata": {},
   "source": [
    "---\n",
    "## 1. Dataset"
   ]
  },
  {
   "cell_type": "code",
   "execution_count": 100,
   "metadata": {},
   "outputs": [],
   "source": [
    "import os\n",
    "import pandas as pd\n",
    "import numpy as np\n",
    "import matplotlib.pyplot as plt\n",
    "import seaborn as sns\n",
    "import tensorflow as tf\n",
    "from imblearn.over_sampling import RandomOverSampler\n",
    "from sklearn.model_selection import train_test_split\n",
    "from sklearn.preprocessing import LabelEncoder\n",
    "from sklearn.metrics import f1_score, accuracy_score,recall_score,precision_score\n",
    "from tensorflow.keras.layers.experimental.preprocessing import TextVectorization\n",
    "from keras import layers\n",
    "from scipy import stats\n",
    "import warnings\n",
    "import sys"
   ]
  },
  {
   "cell_type": "code",
   "execution_count": 52,
   "metadata": {},
   "outputs": [],
   "source": [
    "df = pd.read_csv(\"data//data.csv\")"
   ]
  },
  {
   "cell_type": "code",
   "execution_count": 54,
   "metadata": {},
   "outputs": [
    {
     "name": "stdout",
     "output_type": "stream",
     "text": [
      "neutral     3130\n",
      "positive    1852\n",
      "negative     860\n",
      "Name: Sentiment, dtype: int64\n"
     ]
    },
    {
     "data": {
      "image/png": "[encoded data removed]",
      "text/plain": [
       "<Figure size 640x480 with 1 Axes>"
      ]
     },
     "metadata": {},
     "output_type": "display_data"
    }
   ],
   "source": [
    "fig,ax = plt.subplots()\n",
    "ax.bar(df[\"Sentiment\"].value_counts().index,df[\"Sentiment\"].value_counts().values)\n",
    "ax.set_ylabel(\"Count\")\n",
    "ax.set_title(\"Occurences of labels\")\n",
    "print(df[\"Sentiment\"].value_counts())"
   ]
  },
  {
   "attachments": {},
   "cell_type": "markdown",
   "metadata": {},
   "source": [
    "Dataset is **imbalanced**: almost 2x positive label than negative and 2x neutral label than positive.\n",
    "\n",
    "**Solution**: use imblearn RandomOverSampler. (Under-sampling would make dataset insufficiently small)"
   ]
  },
  {
   "attachments": {},
   "cell_type": "markdown",
   "metadata": {},
   "source": [
    "## 2. Data Preparation"
   ]
  },
  {
   "cell_type": "code",
   "execution_count": 55,
   "metadata": {},
   "outputs": [
    {
     "data": {
      "text/html": [
       "<style>#sk-container-id-2 {color: black;background-color: white;}#sk-container-id-2 pre{padding: 0;}#sk-container-id-2 div.sk-toggleable {background-color: white;}#sk-container-id-2 label.sk-toggleable__label {cursor: pointer;display: block;width: 100%;margin-bottom: 0;padding: 0.3em;box-sizing: border-box;text-align: center;}#sk-container-id-2 label.sk-toggleable__label-arrow:before {content: \"▸\";float: left;margin-right: 0.25em;color: #696969;}#sk-container-id-2 label.sk-toggleable__label-arrow:hover:before {color: black;}#sk-container-id-2 div.sk-estimator:hover label.sk-toggleable__label-arrow:before {color: black;}#sk-container-id-2 div.sk-toggleable__content {max-height: 0;max-width: 0;overflow: hidden;text-align: left;background-color: #f0f8ff;}#sk-container-id-2 div.sk-toggleable__content pre {margin: 0.2em;color: black;border-radius: 0.25em;background-color: #f0f8ff;}#sk-container-id-2 input.sk-toggleable__control:checked~div.sk-toggleable__content {max-height: 200px;max-width: 100%;overflow: auto;}#sk-container-id-2 input.sk-toggleable__control:checked~label.sk-toggleable__label-arrow:before {content: \"▾\";}#sk-container-id-2 div.sk-estimator input.sk-toggleable__control:checked~label.sk-toggleable__label {background-color: #d4ebff;}#sk-container-id-2 div.sk-label input.sk-toggleable__control:checked~label.sk-toggleable__label {background-color: #d4ebff;}#sk-container-id-2 input.sk-hidden--visually {border: 0;clip: rect(1px 1px 1px 1px);clip: rect(1px, 1px, 1px, 1px);height: 1px;margin: -1px;overflow: hidden;padding: 0;position: absolute;width: 1px;}#sk-container-id-2 div.sk-estimator {font-family: monospace;background-color: #f0f8ff;border: 1px dotted black;border-radius: 0.25em;box-sizing: border-box;margin-bottom: 0.5em;}#sk-container-id-2 div.sk-estimator:hover {background-color: #d4ebff;}#sk-container-id-2 div.sk-parallel-item::after {content: \"\";width: 100%;border-bottom: 1px solid gray;flex-grow: 1;}#sk-container-id-2 div.sk-label:hover label.sk-toggleable__label {background-color: #d4ebff;}#sk-container-id-2 div.sk-serial::before {content: \"\";position: absolute;border-left: 1px solid gray;box-sizing: border-box;top: 0;bottom: 0;left: 50%;z-index: 0;}#sk-container-id-2 div.sk-serial {display: flex;flex-direction: column;align-items: center;background-color: white;padding-right: 0.2em;padding-left: 0.2em;position: relative;}#sk-container-id-2 div.sk-item {position: relative;z-index: 1;}#sk-container-id-2 div.sk-parallel {display: flex;align-items: stretch;justify-content: center;background-color: white;position: relative;}#sk-container-id-2 div.sk-item::before, #sk-container-id-2 div.sk-parallel-item::before {content: \"\";position: absolute;border-left: 1px solid gray;box-sizing: border-box;top: 0;bottom: 0;left: 50%;z-index: -1;}#sk-container-id-2 div.sk-parallel-item {display: flex;flex-direction: column;z-index: 1;position: relative;background-color: white;}#sk-container-id-2 div.sk-parallel-item:first-child::after {align-self: flex-end;width: 50%;}#sk-container-id-2 div.sk-parallel-item:last-child::after {align-self: flex-start;width: 50%;}#sk-container-id-2 div.sk-parallel-item:only-child::after {width: 0;}#sk-container-id-2 div.sk-dashed-wrapped {border: 1px dashed gray;margin: 0 0.4em 0.5em 0.4em;box-sizing: border-box;padding-bottom: 0.4em;background-color: white;}#sk-container-id-2 div.sk-label label {font-family: monospace;font-weight: bold;display: inline-block;line-height: 1.2em;}#sk-container-id-2 div.sk-label-container {text-align: center;}#sk-container-id-2 div.sk-container {/* jupyter's `normalize.less` sets `[hidden] { display: none; }` but bootstrap.min.css set `[hidden] { display: none !important; }` so we also need the `!important` here to be able to override the default hidden behavior on the sphinx rendered scikit-learn.org. See: https://github.com/scikit-learn/scikit-learn/issues/21755 */display: inline-block !important;position: relative;}#sk-container-id-2 div.sk-text-repr-fallback {display: none;}</style><div id=\"sk-container-id-2\" class=\"sk-top-container\"><div class=\"sk-text-repr-fallback\"><pre>LabelEncoder()</pre><b>In a Jupyter environment, please rerun this cell to show the HTML representation or trust the notebook. <br />On GitHub, the HTML representation is unable to render, please try loading this page with nbviewer.org.</b></div><div class=\"sk-container\" hidden><div class=\"sk-item\"><div class=\"sk-estimator sk-toggleable\"><input class=\"sk-toggleable__control sk-hidden--visually\" id=\"sk-estimator-id-2\" type=\"checkbox\" checked><label for=\"sk-estimator-id-2\" class=\"sk-toggleable__label sk-toggleable__label-arrow\">LabelEncoder</label><div class=\"sk-toggleable__content\"><pre>LabelEncoder()</pre></div></div></div></div></div>"
      ],
      "text/plain": [
       "LabelEncoder()"
      ]
     },
     "execution_count": 55,
     "metadata": {},
     "output_type": "execute_result"
    }
   ],
   "source": [
    "encoder = LabelEncoder()\n",
    "encoder.fit(df[\"Sentiment\"])"
   ]
  },
  {
   "cell_type": "code",
   "execution_count": 56,
   "metadata": {},
   "outputs": [],
   "source": [
    "X = df[\"Sentence\"]\n",
    "y = encoder.transform(df[\"Sentiment\"])"
   ]
  },
  {
   "cell_type": "code",
   "execution_count": 140,
   "metadata": {},
   "outputs": [
    {
     "name": "stdout",
     "output_type": "stream",
     "text": [
      "['negative' 'neutral' 'positive']\n"
     ]
    }
   ],
   "source": [
    "print(encoder.classes_)"
   ]
  },
  {
   "cell_type": "code",
   "execution_count": 57,
   "metadata": {},
   "outputs": [
    {
     "name": "stdout",
     "output_type": "stream",
     "text": [
      "[2 0 2 ... 1 1 2]\n"
     ]
    }
   ],
   "source": [
    "print(y)"
   ]
  },
  {
   "cell_type": "code",
   "execution_count": 58,
   "metadata": {},
   "outputs": [],
   "source": [
    "X_train,X_test,y_train,y_test = train_test_split(X,y,test_size = 0.2)"
   ]
  },
  {
   "cell_type": "code",
   "execution_count": 59,
   "metadata": {},
   "outputs": [
    {
     "name": "stdout",
     "output_type": "stream",
     "text": [
      "(4673,) (1169,) (4673,) (1169,)\n"
     ]
    }
   ],
   "source": [
    "print(X_train.shape,X_test.shape,y_train.shape,y_test.shape)"
   ]
  },
  {
   "cell_type": "code",
   "execution_count": 60,
   "metadata": {},
   "outputs": [],
   "source": [
    "sampler = RandomOverSampler(random_state=42)\n",
    "X_over, y_over = sampler.fit_resample(X_train.to_numpy().reshape(-1, 1), y_train.reshape(-1, 1))"
   ]
  },
  {
   "cell_type": "code",
   "execution_count": 61,
   "metadata": {},
   "outputs": [],
   "source": [
    "y_train = np.asarray(y_over).astype('float32').reshape((-1,1))\n",
    "y_test = np.asarray(y_test).astype('float32').reshape((-1,1))"
   ]
  },
  {
   "cell_type": "code",
   "execution_count": 62,
   "metadata": {},
   "outputs": [
    {
     "name": "stdout",
     "output_type": "stream",
     "text": [
      "(7440, 1) (7440,)\n"
     ]
    }
   ],
   "source": [
    "print(X_over.shape,y_over.shape)"
   ]
  },
  {
   "cell_type": "code",
   "execution_count": 63,
   "metadata": {},
   "outputs": [],
   "source": [
    "avg_words=round(sum([len(i.split()) for i in X_train])/len(X_train))"
   ]
  },
  {
   "cell_type": "code",
   "execution_count": 64,
   "metadata": {},
   "outputs": [],
   "source": [
    "text_vectorizer = TextVectorization(max_tokens=10000,\n",
    "                                    output_mode=\"int\",\n",
    "                                    output_sequence_length=avg_words)\n",
    "text_vectorizer.adapt(X_train)"
   ]
  },
  {
   "cell_type": "code",
   "execution_count": 65,
   "metadata": {},
   "outputs": [],
   "source": [
    "embedding = layers.Embedding(input_dim=10000, \n",
    "                             output_dim=128, \n",
    "                             embeddings_initializer=\"uniform\", \n",
    "                             input_length=avg_words, \n",
    "                             name=\"embedding_1\")"
   ]
  },
  {
   "attachments": {},
   "cell_type": "markdown",
   "metadata": {},
   "source": [
    "## 3. Classification"
   ]
  },
  {
   "cell_type": "code",
   "execution_count": 72,
   "metadata": {},
   "outputs": [],
   "source": [
    "def get_scores(y_hat,y_true,model_name=\"model\"):\n",
    "    return {\n",
    "        \"model\":model_name,\n",
    "        \"f1\":f1_score(y_hat,y_true,average=\"weighted\"),\n",
    "        \"accuracy\":accuracy_score(y_hat,y_true),\n",
    "        \"recall\": recall_score(y_hat,y_true,average=\"weighted\"),\n",
    "        \"precision\":precision_score(y_hat,y_true,average=\"weighted\")\n",
    "    }"
   ]
  },
  {
   "attachments": {},
   "cell_type": "markdown",
   "metadata": {},
   "source": [
    "### 3.1 Simple Keras CNN"
   ]
  },
  {
   "cell_type": "code",
   "execution_count": 66,
   "metadata": {},
   "outputs": [],
   "source": [
    "inputs = layers.Input(shape=(1,), dtype=\"string\") \n",
    "x = text_vectorizer(inputs) \n",
    "x = embedding(x) \n",
    "x = layers.GlobalAveragePooling1D()(x) \n",
    "outputs = layers.Dense(3, activation='softmax')(x) \n",
    "model_1 = tf.keras.Model(inputs, outputs, name=\"model_1_dense\") \n",
    "\n",
    "model_1.compile(loss=\"sparse_categorical_crossentropy\",\n",
    "                optimizer=tf.keras.optimizers.Adam(),\n",
    "                metrics=[\"accuracy\"])"
   ]
  },
  {
   "cell_type": "code",
   "execution_count": 67,
   "metadata": {},
   "outputs": [
    {
     "name": "stdout",
     "output_type": "stream",
     "text": [
      "Model: \"model_1_dense\"\n",
      "_________________________________________________________________\n",
      " Layer (type)                Output Shape              Param #   \n",
      "=================================================================\n",
      " input_14 (InputLayer)       [(None, 1)]               0         \n",
      "                                                                 \n",
      " text_vectorization_1 (TextV  (None, 21)               0         \n",
      " ectorization)                                                   \n",
      "                                                                 \n",
      " embedding_1 (Embedding)     (None, 21, 128)           1280000   \n",
      "                                                                 \n",
      " global_average_pooling1d_4   (None, 128)              0         \n",
      " (GlobalAveragePooling1D)                                        \n",
      "                                                                 \n",
      " dense_12 (Dense)            (None, 3)                 387       \n",
      "                                                                 \n",
      "=================================================================\n",
      "Total params: 1,280,387\n",
      "Trainable params: 1,280,387\n",
      "Non-trainable params: 0\n",
      "_________________________________________________________________\n"
     ]
    }
   ],
   "source": [
    "model_1.summary()"
   ]
  },
  {
   "cell_type": "code",
   "execution_count": 68,
   "metadata": {},
   "outputs": [
    {
     "name": "stdout",
     "output_type": "stream",
     "text": [
      "Epoch 1/10\n",
      "233/233 [==============================] - 2s 8ms/step - loss: 0.9920 - accuracy: 0.5905\n",
      "Epoch 2/10\n",
      "233/233 [==============================] - 2s 8ms/step - loss: 0.6640 - accuracy: 0.7960\n",
      "Epoch 3/10\n",
      "233/233 [==============================] - 2s 9ms/step - loss: 0.4363 - accuracy: 0.8724\n",
      "Epoch 4/10\n",
      "233/233 [==============================] - 2s 9ms/step - loss: 0.3186 - accuracy: 0.9090\n",
      "Epoch 5/10\n",
      "233/233 [==============================] - 2s 9ms/step - loss: 0.2542 - accuracy: 0.9290\n",
      "Epoch 6/10\n",
      "233/233 [==============================] - 2s 9ms/step - loss: 0.2145 - accuracy: 0.9364\n",
      "Epoch 7/10\n",
      "233/233 [==============================] - 2s 8ms/step - loss: 0.1883 - accuracy: 0.9430\n",
      "Epoch 8/10\n",
      "233/233 [==============================] - 2s 8ms/step - loss: 0.1698 - accuracy: 0.9477\n",
      "Epoch 9/10\n",
      "233/233 [==============================] - 2s 8ms/step - loss: 0.1589 - accuracy: 0.9493\n",
      "Epoch 10/10\n",
      "233/233 [==============================] - 2s 9ms/step - loss: 0.1493 - accuracy: 0.9497\n"
     ]
    }
   ],
   "source": [
    "model_1_history = model_1.fit(X_over, # input sentences can be a list of strings due to text preprocessing layer built-in model\n",
    "                              y_over,\n",
    "                              epochs=10,verbose=0 )"
   ]
  },
  {
   "attachments": {},
   "cell_type": "markdown",
   "metadata": {},
   "source": [
    "#### 3.2 LSTM estimator"
   ]
  },
  {
   "cell_type": "code",
   "execution_count": 80,
   "metadata": {},
   "outputs": [],
   "source": [
    "embedding_layer = layers.Embedding(input_dim=10000,\n",
    "                                   output_dim=128,\n",
    "                                   embeddings_initializer=\"uniform\",\n",
    "                                   input_length=avg_words,\n",
    "                                   name=\"embedding1\")\n",
    "inputs = layers.Input(shape=(1,),dtype=\"string\")\n",
    "\n",
    "x = text_vectorizer(inputs)\n",
    "x= embedding_layer(x)\n",
    "x = layers.LSTM(units=64)(x)\n",
    "outputs = layers.Dense(3, activation=\"softmax\")(x)\n",
    "\n",
    "lstm_model = tf.keras.Model(inputs,outputs,name=\"lstm_model\")\n",
    "\n",
    "lstm_model.compile(loss=\"sparse_categorical_crossentropy\",\n",
    "                   optimizer=tf.keras.optimizers.Adam(),\n",
    "                   metrics=[\"accuracy\"])"
   ]
  },
  {
   "cell_type": "code",
   "execution_count": 81,
   "metadata": {},
   "outputs": [
    {
     "name": "stdout",
     "output_type": "stream",
     "text": [
      "Model: \"lstm_model\"\n",
      "_________________________________________________________________\n",
      " Layer (type)                Output Shape              Param #   \n",
      "=================================================================\n",
      " input_17 (InputLayer)       [(None, 1)]               0         \n",
      "                                                                 \n",
      " text_vectorization_1 (TextV  (None, 21)               0         \n",
      " ectorization)                                                   \n",
      "                                                                 \n",
      " embedding1 (Embedding)      (None, 21, 128)           1280000   \n",
      "                                                                 \n",
      " lstm_18 (LSTM)              (None, 64)                49408     \n",
      "                                                                 \n",
      " dense_16 (Dense)            (None, 3)                 195       \n",
      "                                                                 \n",
      "=================================================================\n",
      "Total params: 1,329,603\n",
      "Trainable params: 1,329,603\n",
      "Non-trainable params: 0\n",
      "_________________________________________________________________\n"
     ]
    }
   ],
   "source": [
    "lstm_model.summary()"
   ]
  },
  {
   "cell_type": "code",
   "execution_count": 82,
   "metadata": {},
   "outputs": [
    {
     "name": "stdout",
     "output_type": "stream",
     "text": [
      "Epoch 1/10\n",
      "233/233 [==============================] - 7s 22ms/step - loss: 0.7782 - accuracy: 0.6384\n",
      "Epoch 2/10\n",
      "233/233 [==============================] - 5s 21ms/step - loss: 0.3188 - accuracy: 0.8863\n",
      "Epoch 3/10\n",
      "233/233 [==============================] - 5s 21ms/step - loss: 0.2145 - accuracy: 0.9281\n",
      "Epoch 4/10\n",
      "233/233 [==============================] - 6s 27ms/step - loss: 0.1733 - accuracy: 0.9394\n",
      "Epoch 5/10\n",
      "233/233 [==============================] - 5s 22ms/step - loss: 0.1594 - accuracy: 0.9450\n",
      "Epoch 6/10\n",
      "233/233 [==============================] - 5s 21ms/step - loss: 0.1461 - accuracy: 0.9478\n",
      "Epoch 7/10\n",
      "233/233 [==============================] - 5s 22ms/step - loss: 0.1412 - accuracy: 0.9484\n",
      "Epoch 8/10\n",
      "233/233 [==============================] - 5s 21ms/step - loss: 0.1250 - accuracy: 0.9507\n",
      "Epoch 9/10\n",
      "233/233 [==============================] - 5s 23ms/step - loss: 0.1217 - accuracy: 0.9520\n",
      "Epoch 10/10\n",
      "233/233 [==============================] - 7s 32ms/step - loss: 0.1213 - accuracy: 0.9522\n"
     ]
    }
   ],
   "source": [
    "lstm_history = lstm_model.fit(X_over,y_over,epochs=10,verbose=0)"
   ]
  },
  {
   "cell_type": "code",
   "execution_count": null,
   "metadata": {},
   "outputs": [
    {
     "name": "stdout",
     "output_type": "stream",
     "text": [
      "37/37 [==============================] - 1s 6ms/step - loss: 1.8381 - accuracy: 0.6193\n"
     ]
    },
    {
     "data": {
      "text/plain": [
       "[1.83811616897583, 0.6193327903747559]"
      ]
     },
     "execution_count": 43,
     "metadata": {},
     "output_type": "execute_result"
    }
   ],
   "source": [
    "lstm_model.evaluate(X_test,y_test)"
   ]
  },
  {
   "attachments": {},
   "cell_type": "markdown",
   "metadata": {},
   "source": [
    "#### 3.3 GRU estimator"
   ]
  },
  {
   "cell_type": "code",
   "execution_count": 85,
   "metadata": {},
   "outputs": [],
   "source": [
    "embedding_layer3 = layers.Embedding(input_dim=10000,\n",
    "                                          output_dim =128,\n",
    "                                          embeddings_initializer = \"uniform\",\n",
    "                                          input_length=avg_words,\n",
    "                                          name=\"embedding3\")\n",
    "inputs = layers.Input(shape=(1,),dtype=\"string\")\n",
    "x = text_vectorizer(inputs)\n",
    "x = embedding_layer3(x)\n",
    "x = layers.GRU(64)(x)\n",
    "outputs = layers.Dense(3, activation=\"softmax\")(x)\n",
    "\n",
    "gru_model = tf.keras.Model(inputs,outputs,name=\"gru_model\")\n",
    "\n",
    "gru_model.compile(loss=\"sparse_categorical_crossentropy\",\n",
    "                  optimizer = tf.keras.optimizers.Adam(),\n",
    "                  metrics=[\"accuracy\"]\n",
    "                  )"
   ]
  },
  {
   "cell_type": "code",
   "execution_count": 87,
   "metadata": {},
   "outputs": [
    {
     "name": "stdout",
     "output_type": "stream",
     "text": [
      "Epoch 1/10\n",
      "233/233 [==============================] - 5s 23ms/step - loss: 0.4478 - accuracy: 0.8325\n",
      "Epoch 2/10\n",
      "233/233 [==============================] - 6s 25ms/step - loss: 0.2134 - accuracy: 0.9238\n",
      "Epoch 3/10\n",
      "233/233 [==============================] - 6s 25ms/step - loss: 0.1672 - accuracy: 0.9391\n",
      "Epoch 4/10\n",
      "233/233 [==============================] - 7s 30ms/step - loss: 0.1560 - accuracy: 0.9437\n",
      "Epoch 5/10\n",
      "233/233 [==============================] - 6s 25ms/step - loss: 0.1449 - accuracy: 0.9470\n",
      "Epoch 6/10\n",
      "233/233 [==============================] - 5s 23ms/step - loss: 0.1338 - accuracy: 0.9511\n",
      "Epoch 7/10\n",
      "233/233 [==============================] - 6s 24ms/step - loss: 0.1316 - accuracy: 0.9508\n",
      "Epoch 8/10\n",
      "233/233 [==============================] - 6s 24ms/step - loss: 0.1268 - accuracy: 0.9515\n",
      "Epoch 9/10\n",
      "233/233 [==============================] - 5s 22ms/step - loss: 0.1259 - accuracy: 0.9515\n",
      "Epoch 10/10\n",
      "233/233 [==============================] - 6s 24ms/step - loss: 0.1191 - accuracy: 0.9540\n"
     ]
    }
   ],
   "source": [
    "gru_history  = gru_model.fit(X_over,y_over,epochs=10,verbose=0)"
   ]
  },
  {
   "cell_type": "code",
   "execution_count": 88,
   "metadata": {},
   "outputs": [
    {
     "name": "stdout",
     "output_type": "stream",
     "text": [
      "37/37 [==============================] - 1s 8ms/step - loss: 1.9854 - accuracy: 0.6441\n"
     ]
    },
    {
     "data": {
      "text/plain": [
       "[1.9854001998901367, 0.6441403031349182]"
      ]
     },
     "execution_count": 88,
     "metadata": {},
     "output_type": "execute_result"
    }
   ],
   "source": [
    "gru_model.evaluate(X_test,y_test)"
   ]
  },
  {
   "attachments": {},
   "cell_type": "markdown",
   "metadata": {},
   "source": [
    "#### 3.4 Bidirectional Estimator"
   ]
  },
  {
   "cell_type": "code",
   "execution_count": 89,
   "metadata": {},
   "outputs": [],
   "source": [
    "embedding_layer4 = layers.Embedding(input_dim=10000,\n",
    "                                    output_dim=128,\n",
    "                                    embeddings_initializer=\"uniform\",\n",
    "                                    input_length=avg_words,\n",
    "                                    name=\"embedding4\")\n",
    "\n",
    "inputs = layers.Input(shape=(1,),dtype=\"string\")\n",
    "x = text_vectorizer(inputs)\n",
    "x = embedding_layer4(x)\n",
    "x = layers.Bidirectional(layers.LSTM(64,))(x)\n",
    "outputs = layers.Dense(3,activation=\"softmax\")(x)\n",
    "\n",
    "bdir_model = tf.keras.Model(inputs,outputs,name=\"bdir_model\")\n",
    "bdir_model.compile(loss=\"sparse_categorical_crossentropy\",\n",
    "                   optimizer = tf.keras.optimizers.Adam(),\n",
    "                   metrics = [\"accuracy\"])"
   ]
  },
  {
   "cell_type": "code",
   "execution_count": 91,
   "metadata": {},
   "outputs": [
    {
     "name": "stdout",
     "output_type": "stream",
     "text": [
      "Epoch 1/10\n",
      "233/233 [==============================] - 8s 34ms/step - loss: 0.6604 - accuracy: 0.7179\n",
      "Epoch 2/10\n",
      "233/233 [==============================] - 8s 36ms/step - loss: 0.2623 - accuracy: 0.9044\n",
      "Epoch 3/10\n",
      "233/233 [==============================] - 7s 29ms/step - loss: 0.1751 - accuracy: 0.9387\n",
      "Epoch 4/10\n",
      "233/233 [==============================] - 7s 28ms/step - loss: 0.1472 - accuracy: 0.9456\n",
      "Epoch 5/10\n",
      "233/233 [==============================] - 9s 40ms/step - loss: 0.1408 - accuracy: 0.9473\n",
      "Epoch 6/10\n",
      "233/233 [==============================] - 8s 36ms/step - loss: 0.1326 - accuracy: 0.9500\n",
      "Epoch 7/10\n",
      "233/233 [==============================] - 7s 29ms/step - loss: 0.1371 - accuracy: 0.9476\n",
      "Epoch 8/10\n",
      "233/233 [==============================] - 7s 31ms/step - loss: 0.1212 - accuracy: 0.9527\n",
      "Epoch 9/10\n",
      "233/233 [==============================] - 7s 29ms/step - loss: 0.1163 - accuracy: 0.9543\n",
      "Epoch 10/10\n",
      "233/233 [==============================] - 7s 28ms/step - loss: 0.1193 - accuracy: 0.9530\n"
     ]
    },
    {
     "data": {
      "text/plain": [
       "<keras.callbacks.History at 0x258bb2d2fd0>"
      ]
     },
     "execution_count": 91,
     "metadata": {},
     "output_type": "execute_result"
    }
   ],
   "source": [
    "bdir_history = bdir_model.fit(X_over,y_over,epochs=10,verbose=0)"
   ]
  },
  {
   "cell_type": "code",
   "execution_count": 92,
   "metadata": {},
   "outputs": [
    {
     "name": "stdout",
     "output_type": "stream",
     "text": [
      "37/37 [==============================] - 1s 8ms/step - loss: 1.9405 - accuracy: 0.6151\n"
     ]
    },
    {
     "data": {
      "text/plain": [
       "[1.940460205078125, 0.6150556206703186]"
      ]
     },
     "execution_count": 92,
     "metadata": {},
     "output_type": "execute_result"
    }
   ],
   "source": [
    "bdir_model.evaluate(X_test,y_test)"
   ]
  },
  {
   "attachments": {},
   "cell_type": "markdown",
   "metadata": {},
   "source": [
    "#### 3.5 Conv1d Estimator"
   ]
  },
  {
   "cell_type": "code",
   "execution_count": 93,
   "metadata": {},
   "outputs": [],
   "source": [
    "embedding_layer5 = layers.Embedding(input_dim=10000,\n",
    "                                    output_dim=128,\n",
    "                                    embeddings_initializer=\"uniform\",\n",
    "                                    input_length=avg_words,\n",
    "                                    name=\"embedding5\")\n",
    "\n",
    "inputs = layers.Input(shape=(1,),dtype=\"string\")\n",
    "x = text_vectorizer(inputs)\n",
    "x = embedding_layer5(x)\n",
    "\n",
    "x = layers.Conv1D(filters=32,kernel_size=5,activation=\"relu\")(x)\n",
    "x = layers.GlobalMaxPool1D()(x)\n",
    "outputs = layers.Dense(3,activation=\"softmax\")(x)\n",
    "\n",
    "conv1d_model = tf.keras.Model(inputs,outputs,name=\"conv1d_model\")\n",
    "conv1d_model.compile(loss=\"sparse_categorical_crossentropy\",\n",
    "                   optimizer = tf.keras.optimizers.Adam(),\n",
    "                   metrics = [\"accuracy\"])"
   ]
  },
  {
   "cell_type": "code",
   "execution_count": 95,
   "metadata": {},
   "outputs": [
    {
     "name": "stdout",
     "output_type": "stream",
     "text": [
      "Epoch 1/10\n",
      "233/233 [==============================] - 3s 11ms/step - loss: 0.4134 - accuracy: 0.8620\n",
      "Epoch 2/10\n",
      "233/233 [==============================] - 4s 16ms/step - loss: 0.2160 - accuracy: 0.9254\n",
      "Epoch 3/10\n",
      "233/233 [==============================] - 3s 14ms/step - loss: 0.1664 - accuracy: 0.9390\n",
      "Epoch 4/10\n",
      "233/233 [==============================] - 3s 12ms/step - loss: 0.1520 - accuracy: 0.9427\n",
      "Epoch 5/10\n",
      "233/233 [==============================] - 2s 10ms/step - loss: 0.1435 - accuracy: 0.9445\n",
      "Epoch 6/10\n",
      "233/233 [==============================] - 2s 10ms/step - loss: 0.1389 - accuracy: 0.9456\n",
      "Epoch 7/10\n",
      "233/233 [==============================] - 2s 9ms/step - loss: 0.1352 - accuracy: 0.9476\n",
      "Epoch 8/10\n",
      "233/233 [==============================] - 2s 9ms/step - loss: 0.1338 - accuracy: 0.9487\n",
      "Epoch 9/10\n",
      "233/233 [==============================] - 2s 9ms/step - loss: 0.1311 - accuracy: 0.9497\n",
      "Epoch 10/10\n",
      "233/233 [==============================] - 2s 9ms/step - loss: 0.1302 - accuracy: 0.9491\n"
     ]
    }
   ],
   "source": [
    "conv1d_history = conv1d_model.fit(X_over,y_over,epochs=10)"
   ]
  },
  {
   "cell_type": "code",
   "execution_count": 96,
   "metadata": {},
   "outputs": [
    {
     "name": "stdout",
     "output_type": "stream",
     "text": [
      "37/37 [==============================] - 0s 2ms/step - loss: 1.3225 - accuracy: 0.6450\n"
     ]
    },
    {
     "data": {
      "text/plain": [
       "[1.3224947452545166, 0.6449957489967346]"
      ]
     },
     "execution_count": 96,
     "metadata": {},
     "output_type": "execute_result"
    }
   ],
   "source": [
    "conv1d_model.evaluate(X_test,y_test)"
   ]
  },
  {
   "attachments": {},
   "cell_type": "markdown",
   "metadata": {},
   "source": [
    "#### 3.6 FinBERT (hugging-face)"
   ]
  },
  {
   "cell_type": "code",
   "execution_count": 151,
   "metadata": {},
   "outputs": [
    {
     "data": {
      "application/vnd.jupyter.widget-view+json": {
       "model_id": "8fc50dbc50ed404b8aa9430df960366b",
       "version_major": 2,
       "version_minor": 0
      },
      "text/plain": [
       "Downloading:   0%|          | 0.00/533 [00:00<?, ?B/s]"
      ]
     },
     "metadata": {},
     "output_type": "display_data"
    },
    {
     "data": {
      "application/vnd.jupyter.widget-view+json": {
       "model_id": "0113d7454f14473d907b98bb243d9d09",
       "version_major": 2,
       "version_minor": 0
      },
      "text/plain": [
       "Downloading:   0%|          | 0.00/439M [00:00<?, ?B/s]"
      ]
     },
     "metadata": {},
     "output_type": "display_data"
    },
    {
     "name": "stderr",
     "output_type": "stream",
     "text": [
      "Some layers from the model checkpoint at yiyanghkust/finbert-tone were not used when initializing TFBertForSequenceClassification: ['dropout_37']\n",
      "- This IS expected if you are initializing TFBertForSequenceClassification from the checkpoint of a model trained on another task or with another architecture (e.g. initializing a BertForSequenceClassification model from a BertForPreTraining model).\n",
      "- This IS NOT expected if you are initializing TFBertForSequenceClassification from the checkpoint of a model that you expect to be exactly identical (initializing a BertForSequenceClassification model from a BertForSequenceClassification model).\n",
      "All the layers of TFBertForSequenceClassification were initialized from the model checkpoint at yiyanghkust/finbert-tone.\n",
      "If your task is similar to the task the model of the checkpoint was trained on, you can already use TFBertForSequenceClassification for predictions without further training.\n"
     ]
    },
    {
     "data": {
      "application/vnd.jupyter.widget-view+json": {
       "model_id": "0714034a052540b79bf092bd56a85405",
       "version_major": 2,
       "version_minor": 0
      },
      "text/plain": [
       "Downloading:   0%|          | 0.00/226k [00:00<?, ?B/s]"
      ]
     },
     "metadata": {},
     "output_type": "display_data"
    }
   ],
   "source": [
    "from transformers import BertTokenizer, TFBertForSequenceClassification\n",
    "from transformers import pipeline\n",
    "finbert = TFBertForSequenceClassification.from_pretrained('yiyanghkust/finbert-tone',num_labels=3)\n",
    "tokenizer = BertTokenizer.from_pretrained('yiyanghkust/finbert-tone')"
   ]
  },
  {
   "cell_type": "code",
   "execution_count": 152,
   "metadata": {},
   "outputs": [],
   "source": [
    "nlp = pipeline(\"sentiment-analysis\", model=finbert, tokenizer=tokenizer)\n",
    "results = nlp(X_test.tolist())"
   ]
  },
  {
   "cell_type": "code",
   "execution_count": 159,
   "metadata": {},
   "outputs": [
    {
     "name": "stdout",
     "output_type": "stream",
     "text": [
      "[{'label': 'Neutral', 'score': 0.9999982118606567}, {'label': 'Neutral', 'score': 0.9999959468841553}, {'label': 'Positive', 'score': 0.9996904134750366}, {'label': 'Neutral', 'score': 0.9987195730209351}, {'label': 'Neutral', 'score': 0.794976532459259}, {'label': 'Neutral', 'score': 0.9999175071716309}, {'label': 'Negative', 'score': 0.999966025352478}, {'label': 'Positive', 'score': 0.9999669790267944}, {'label': 'Negative', 'score': 0.9940758943557739}, {'label': 'Negative', 'score': 0.7023686170578003}]\n"
     ]
    }
   ],
   "source": [
    "y_pred_finbert =[]\n",
    "for result in results:\n",
    "    if result[\"label\"] ==\"Negative\":\n",
    "        y_pred_finbert.append(0)\n",
    "    elif result[\"label\"] ==\"Neutral\":\n",
    "        y_pred_finbert.append(1)\n",
    "    else:\n",
    "        y_pred_finbert.append(2)"
   ]
  },
  {
   "cell_type": "code",
   "execution_count": 160,
   "metadata": {},
   "outputs": [],
   "source": [
    "finbert_acc = get_scores(y_pred_finbert,y_test,\"finBERT\")"
   ]
  },
  {
   "cell_type": "code",
   "execution_count": 162,
   "metadata": {},
   "outputs": [
    {
     "name": "stderr",
     "output_type": "stream",
     "text": [
      "All model checkpoint layers were used when initializing TFBertForSequenceClassification.\n",
      "\n",
      "Some layers of TFBertForSequenceClassification were not initialized from the model checkpoint at ProsusAI/finbert and are newly initialized: ['classifier']\n",
      "You should probably TRAIN this model on a down-stream task to be able to use it for predictions and inference.\n"
     ]
    }
   ],
   "source": [
    "finbert = TFBertForSequenceClassification.from_pretrained('ProsusAI/finbert',num_labels=3)\n",
    "tokenizer = BertTokenizer.from_pretrained('ProsusAI/finbert')"
   ]
  },
  {
   "cell_type": "code",
   "execution_count": 163,
   "metadata": {},
   "outputs": [],
   "source": [
    "nlp = pipeline(\"sentiment-analysis\", model=finbert, tokenizer=tokenizer)\n",
    "results = nlp(X_test.tolist())"
   ]
  },
  {
   "cell_type": "code",
   "execution_count": 167,
   "metadata": {},
   "outputs": [],
   "source": [
    "y_pred_finbert_base =[]\n",
    "for result in results:\n",
    "    if result[\"label\"] ==\"negative\":\n",
    "        y_pred_finbert_base.append(0)\n",
    "    elif result[\"label\"] ==\"neutral\":\n",
    "        y_pred_finbert_base.append(1)\n",
    "    else:\n",
    "        y_pred_finbert_base.append(2)"
   ]
  },
  {
   "cell_type": "code",
   "execution_count": 168,
   "metadata": {},
   "outputs": [],
   "source": [
    "finbert_base_acc = get_scores(y_pred_finbert_base,y_test,\"finBERT\")"
   ]
  },
  {
   "attachments": {},
   "cell_type": "markdown",
   "metadata": {},
   "source": [
    "## 4. Model Comparison"
   ]
  },
  {
   "cell_type": "code",
   "execution_count": 170,
   "metadata": {},
   "outputs": [
    {
     "name": "stdout",
     "output_type": "stream",
     "text": [
      "37/37 [==============================] - 1s 2ms/step\n",
      "37/37 [==============================] - 1s 6ms/step\n",
      "37/37 [==============================] - 0s 2ms/step\n",
      "37/37 [==============================] - 1s 6ms/step\n",
      "37/37 [==============================] - 1s 8ms/step\n"
     ]
    }
   ],
   "source": [
    "y_pred_cnn = model_1.predict(X_test)\n",
    "y_pred_lstm = lstm_model.predict(X_test)\n",
    "y_pred_conv1d = conv1d_model.predict(X_test)\n",
    "y_pred_gru = gru_model.predict(X_test)\n",
    "y_pred_bdir = bdir_model.predict(X_test)"
   ]
  },
  {
   "cell_type": "code",
   "execution_count": 187,
   "metadata": {},
   "outputs": [
    {
     "data": {
      "image/png": "[encoded data removed]",
      "text/plain": [
       "<Figure size 640x480 with 1 Axes>"
      ]
     },
     "metadata": {},
     "output_type": "display_data"
    }
   ],
   "source": [
    "acc_scores = []\n",
    "prec_scores = []\n",
    "f1_scores = []\n",
    "recall_scores = []\n",
    "\n",
    "for preds in [y_pred_cnn,y_pred_lstm,y_pred_conv1d,y_pred_gru,y_pred_bdir]:\n",
    "    y_hat = []\n",
    "    for pred in preds:\n",
    "        if max(pred) ==pred[0]:\n",
    "            y_hat.append(0)\n",
    "        elif max(pred) ==pred[1]:\n",
    "            y_hat.append(1)\n",
    "        else:\n",
    "            y_hat.append(2)\n",
    "    acc_scores.append(get_scores(y_hat, y_test)[\"accuracy\"])\n",
    "    prec_scores.append(get_scores(y_hat, y_test)[\"precision\"])\n",
    "    f1_scores.append(get_scores(y_hat, y_test)[\"f1\"])\n",
    "    recall_scores.append(get_scores(y_hat, y_test)[\"recall\"])\n",
    "    \n",
    "acc_scores +=[finbert_acc[\"accuracy\"],finbert_base_acc[\"accuracy\"]]\n",
    "prec_scores +=[finbert_acc[\"precision\"],finbert_base_acc[\"precision\"]]\n",
    "recall_scores +=[finbert_acc[\"recall\"],finbert_base_acc[\"recall\"]]\n",
    "f1_scores +=[finbert_acc[\"f1\"],finbert_base_acc[\"f1\"]]\n",
    "fig = plt.figure()\n",
    "\n",
    "barWidth = 0.2\n",
    "br1 = np.arange(len(acc_scores))\n",
    "br2 = [x + barWidth for x in br1]\n",
    "br3 = [x + barWidth for x in br2]\n",
    "br4 = [x + barWidth for x in br3]\n",
    "\n",
    "\n",
    "\n",
    "plt.bar(br1,acc_scores,width=barWidth,label=\"Accuracy\")\n",
    "plt.bar(br2,prec_scores,width=barWidth,label=\"Precision\")\n",
    "plt.bar(br3,f1_scores,width=barWidth,label=\"F1 Score\")\n",
    "plt.bar(br4,recall_scores,width=barWidth,label=\"Recall\")\n",
    "plt.xticks([r + barWidth for r in range(len(acc_scores))],\n",
    "        [\"CNN\",\"LSTM\",\"Conv1D\",\"GRU\",\"Bdir\",\"finBERT-tone\",\"finBERT-base\"],rotation=20)\n",
    "plt.ylim(0,1)\n",
    "plt.legend()\n",
    "plt.show()"
   ]
  },
  {
   "attachments": {},
   "cell_type": "markdown",
   "metadata": {},
   "source": [
    "Best accuracy: finBERT-tone 71.26%"
   ]
  },
  {
   "cell_type": "markdown",
   "metadata": {},
   "source": []
  }
 ],
 "metadata": {
  "kernelspec": {
   "display_name": "base",
   "language": "python",
   "name": "python3"
  },
  "language_info": {
   "codemirror_mode": {
    "name": "ipython",
    "version": 3
   },
   "file_extension": ".py",
   "mimetype": "text/x-python",
   "name": "python",
   "nbconvert_exporter": "python",
   "pygments_lexer": "ipython3",
   "version": "3.9.13"
  },
  "orig_nbformat": 4,
  "vscode": {
   "interpreter": {
    "hash": "605e616c404bc2856ab367308b2bb812f81f8f4d1e902ec953b7bc9f683a5d50"
   }
  }
 },
 "nbformat": 4,
 "nbformat_minor": 2
}
