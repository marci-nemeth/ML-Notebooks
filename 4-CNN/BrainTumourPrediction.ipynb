{
 "cells": [
  {
   "attachments": {},
   "cell_type": "markdown",
   "metadata": {},
   "source": [
    "# Brain MRI Tumour Prediction\n",
    "\n",
    "### Description\n",
    "\n",
    "This classification task is based on the Kaggle dataset: <a href=https://www.kaggle.com/datasets/navoneel/brain-mri-images-for-brain-tumor-detection>Brain MRI Images for Brain Tumor Detection</a>. The dataset is under public domain license (v10.0).\n",
    "\n",
    "---\n",
    "### Table of contents\n",
    "\n",
    "1. [Dataset](#dataset)\n",
    "2. [Data preparation](#preparation)\n",
    "3. [Classification](#classification)\n",
    "   1. [Simple Conv](#)\n",
    "   2. [LSTM](#)\n",
    "   3. [GRU](#)\n",
    "   4. [Bidirectional](#)\n",
    "   5. [Conv1d](#)\n",
    "   6. [FinBERT](#finbert)\n",
    "4. [Model Comparison](#comparison)"
   ]
  },
  {
   "attachments": {},
   "cell_type": "markdown",
   "metadata": {},
   "source": [
    "## 1. Dataset"
   ]
  },
  {
   "cell_type": "code",
   "execution_count": 7,
   "metadata": {},
   "outputs": [],
   "source": [
    "import os\n",
    "import pandas as pd\n",
    "import numpy as np\n",
    "import matplotlib.pyplot as plt\n",
    "import shutil\n",
    "from keras.preprocessing.image import ImageDataGenerator\n",
    "import glob"
   ]
  },
  {
   "cell_type": "code",
   "execution_count": 4,
   "metadata": {},
   "outputs": [],
   "source": [
    "PATH = \"data//brain_tumor_dataset//\"\n",
    "no_filenames =[]\n",
    "yes_filenames = []\n",
    "\n",
    "for f in os.listdir(PATH+\"no\"):\n",
    "    no_filenames.append(f)\n",
    "    \n",
    "for f in os.listdir(PATH+\"yes\"):\n",
    "    yes_filenames.append(f)"
   ]
  },
  {
   "cell_type": "code",
   "execution_count": 6,
   "metadata": {},
   "outputs": [
    {
     "name": "stdout",
     "output_type": "stream",
     "text": [
      "98\n",
      "155\n"
     ]
    }
   ],
   "source": [
    "print(len(no_filenames))\n",
    "print(len(yes_filenames))"
   ]
  },
  {
   "cell_type": "code",
   "execution_count": null,
   "metadata": {},
   "outputs": [],
   "source": []
  }
 ],
 "metadata": {
  "kernelspec": {
   "display_name": "base",
   "language": "python",
   "name": "python3"
  },
  "language_info": {
   "codemirror_mode": {
    "name": "ipython",
    "version": 3
   },
   "file_extension": ".py",
   "mimetype": "text/x-python",
   "name": "python",
   "nbconvert_exporter": "python",
   "pygments_lexer": "ipython3",
   "version": "3.9.13"
  },
  "orig_nbformat": 4,
  "vscode": {
   "interpreter": {
    "hash": "605e616c404bc2856ab367308b2bb812f81f8f4d1e902ec953b7bc9f683a5d50"
   }
  }
 },
 "nbformat": 4,
 "nbformat_minor": 2
}
